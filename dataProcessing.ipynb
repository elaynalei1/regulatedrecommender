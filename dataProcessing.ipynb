{
 "cells": [
  {
   "cell_type": "markdown",
   "metadata": {},
   "source": [
    "# Data Cleaning and Pre-Processing"
   ]
  },
  {
   "cell_type": "markdown",
   "metadata": {},
   "source": [
    "##### First, we import our data and necessary libraries. "
   ]
  },
  {
   "cell_type": "code",
   "execution_count": 77,
   "metadata": {},
   "outputs": [],
   "source": [
    "import numpy as np\n",
    "import nltk\n",
    "# nltk.download('all')\n",
    "from nltk.tokenize import word_tokenize\n",
    "from nltk import pos_tag\n",
    "from nltk.corpus import stopwords\n",
    "from nltk.stem import WordNetLemmatizer\n",
    "from sklearn.preprocessing import LabelEncoder\n",
    "from collections import defaultdict\n",
    "from nltk.corpus import wordnet as wn\n",
    "from sklearn.feature_extraction.text import TfidfVectorizer\n",
    "from sklearn import model_selection, svm\n",
    "from sklearn import metrics\n",
    "import pandas as pd\n",
    "\n",
    "# combo_df = pd.read_csv(\"data/monkeypox.csv\", encoding='latin-1')\n",
    "combo_df = pd.read_csv(\"data/monkeypox.csv\", encoding='latin-1')"
   ]
  },
  {
   "cell_type": "markdown",
   "metadata": {},
   "source": [
    "##### Next, we set a random seed to keep our results consistent each time the script is ran. We then perform basic data cleaning, including removing blank rows, conversion to lowercase, and tokenization of text stream into meaningful elements."
   ]
  },
  {
   "cell_type": "code",
   "execution_count": 78,
   "metadata": {},
   "outputs": [
    {
     "name": "stdout",
     "output_type": "stream",
     "text": [
      "   ï»¿number           created_at  \\\n",
      "0         18  2022-07-08 10:12:04   \n",
      "1         31  2022-07-09 00:00:00   \n",
      "2         32  2022-07-09 00:00:01   \n",
      "3         33  2022-07-09 00:00:04   \n",
      "4         34  2022-07-09 00:00:07   \n",
      "5         35  2022-07-09 00:00:13   \n",
      "6         37  2022-07-09 00:00:17   \n",
      "7         39  2022-07-09 00:00:19   \n",
      "8         41  2022-07-09 00:00:27   \n",
      "9         42  2022-07-09 00:00:31   \n",
      "\n",
      "                                                text                 source  \\\n",
      "0  much of the focus on #monkeypox recently has b...        Twitter Web App   \n",
      "1  icymi: the first probable case of monkeypox in...              TweetDeck   \n",
      "2  who: #monkeypox outbreak not yet a global publ...              eClincher   \n",
      "3  according to the cdc, monkeypox is usually spr...          Sprout Social   \n",
      "4  lgbtq advocates and health care organizations ...         SocialNewsDesk   \n",
      "5  @slinderboy @smg4official anyone can contract ...        Twitter Web App   \n",
      "6  new info: the number of monkeypox cases in tex...         SocialNewsDesk   \n",
      "7  here's how you can get tested for monkeypox if...     Twitter for iPhone   \n",
      "8  the u.s. may be losing the fight against monke...          WordPress.com   \n",
      "9  07/08/2022 11:11 pm utc  :newspaper: monkeypox...  Monkeypox News & Data   \n",
      "\n",
      "   user is verified  user has url  \\\n",
      "0             False         False   \n",
      "1              True          True   \n",
      "2             False         False   \n",
      "3              True          True   \n",
      "4              True          True   \n",
      "5             False          True   \n",
      "6              True          True   \n",
      "7              True          True   \n",
      "8             False          True   \n",
      "9             False          True   \n",
      "\n",
      "                                    user description      user created at  \\\n",
      "0  Mother of 4, ex wife of 3. Battling health ine...  2011-08-14 19:22:06   \n",
      "1  WCHS-TV serves the Charleston-Huntington marke...  2009-04-17 15:21:43   \n",
      "2  Patient Engagement | Revenue Cycle Management ...  2019-03-05 19:24:33   \n",
      "3  Home of the Minnesota @Twins and @Timberwolves...  2009-02-18 14:57:13   \n",
      "4  Spectrum News 1 offers the best 24-hour local ...  2008-10-27 02:14:13   \n",
      "5  Ya'll better buy Klonoa, on jah Credit to @Poo...  2021-02-21 01:08:42   \n",
      "6  Breaking news and local stories from KENS 5 - ...  2009-06-11 05:56:15   \n",
      "7  Honored to represent CA's 44th Congressional D...  2017-01-05 02:29:18   \n",
      "8                           Straight Outta Manhattan  2012-10-11 23:21:03   \n",
      "9                    Real-time Monkeypox data & News  2022-07-03 15:43:58   \n",
      "\n",
      "   retweet_count  reply_count  like_count  quote_count  followers count  \\\n",
      "0              2            0           2            0             3696   \n",
      "1              2            0           1            0            75836   \n",
      "2              0            0           0            0             2852   \n",
      "3              1            0           1            0            22897   \n",
      "4              0            0           0            0            81296   \n",
      "5              0            0           0            0              861   \n",
      "6              3            1           0            1           177362   \n",
      "7              6            1           8            0            32877   \n",
      "8              0            0           0            0               63   \n",
      "9              0            0           0            0              853   \n",
      "\n",
      "   following count  tweet count  listed_count         user location  \\\n",
      "0             2993         3459            25       London, England   \n",
      "1             1753       125528           531        Charleston, WV   \n",
      "2             2381        10615            14             Utah, USA   \n",
      "3             5665       119258           663  Downtown Minneapolis   \n",
      "4              466       148219           747         Rochester, NY   \n",
      "5             4948        20732             3              the void   \n",
      "6              528       230286          1132    San Antonio, Texas   \n",
      "7             9353         8058           807         San Pedro, CA   \n",
      "8                1        71719             0         Manhattan, NY   \n",
      "9                0           78             0                   NaN   \n",
      "\n",
      "   binary_class  ternary_class  \n",
      "0             0              0  \n",
      "1             0              0  \n",
      "2             0              0  \n",
      "3             0              0  \n",
      "4             0              0  \n",
      "5             0              0  \n",
      "6             0              0  \n",
      "7             0              0  \n",
      "8             0              0  \n",
      "9             0              0  \n",
      "0    [much, of, the, focus, on, #, monkeypox, recen...\n",
      "1    [icymi, :, the, first, probable, case, of, mon...\n",
      "2    [who, :, #, monkeypox, outbreak, not, yet, a, ...\n",
      "3    [according, to, the, cdc, ,, monkeypox, is, us...\n",
      "4    [lgbtq, advocates, and, health, care, organiza...\n",
      "5    [@, slinderboy, @, smg4official, anyone, can, ...\n",
      "6    [new, info, :, the, number, of, monkeypox, cas...\n",
      "7    [here, 's, how, you, can, get, tested, for, mo...\n",
      "8    [the, u.s., may, be, losing, the, fight, again...\n",
      "9    [07/08/2022, 11:11, pm, utc, :, newspaper, :, ...\n",
      "Name: tokenized_text, dtype: object\n"
     ]
    }
   ],
   "source": [
    "np.random.seed(333)\n",
    "\n",
    "#remove any blank rows\n",
    "combo_df['text'].dropna(inplace=True)\n",
    "\n",
    "#convert all to lowercase\n",
    "combo_df['text'] = combo_df['text'].astype(str)\n",
    "combo_df['text'] = combo_df['text'].str.lower()\n",
    "print(combo_df.head(10))\n",
    "\n",
    "#tokenization\n",
    "combo_df['tokenized_text'] = combo_df.apply(lambda row: nltk.word_tokenize(row[\"text\"]), axis=1)\n",
    "print(combo_df['tokenized_text'].head(10))"
   ]
  },
  {
   "cell_type": "markdown",
   "metadata": {},
   "source": [
    "##### The following step includes word lemmatization. This process reduces words into a common meaning and removes stop words and non alphabetic terms in order to have a tokenized version of the text where we have reduced strings to their basic meaning."
   ]
  },
  {
   "cell_type": "code",
   "execution_count": 79,
   "metadata": {},
   "outputs": [],
   "source": [
    "#WordNetLemmatizer: remove stop words, non-alpha text, and word lemmatization\n",
    "pos_map = defaultdict(lambda : wn.NOUN)\n",
    "pos_map['J'] = wn.ADJ\n",
    "pos_map['V'] = wn.VERB\n",
    "pos_map['R'] = wn.ADV"
   ]
  },
  {
   "cell_type": "code",
   "execution_count": 80,
   "metadata": {},
   "outputs": [],
   "source": [
    "for i, text in enumerate(combo_df['tokenized_text']):\n",
    "    final_words = []\n",
    "    word_lem = WordNetLemmatizer()\n",
    "    for word, tag in pos_tag(text):\n",
    "        if word not in stopwords.words('english') and word.isalpha():\n",
    "            word_final = word_lem.lemmatize(word, pos=pos_map[tag[0]])\n",
    "            final_words.append(word_final)\n",
    "    combo_df.loc[i, 'tokenized_text'] = str(final_words)"
   ]
  },
  {
   "cell_type": "code",
   "execution_count": null,
   "metadata": {},
   "outputs": [],
   "source": []
  },
  {
   "cell_type": "markdown",
   "metadata": {},
   "source": [
    "##### The following three cells prepare data to be used in machine learning techniques. The first is splitting data into training data used to build the model and testing data to predict outcomes of misinformation or not misinformation. \n",
    "\n",
    "##### The next cell leverages LabelEncoder to transform words into numerical values, and the following cell vectorizes data into numerical feature vectors that summarize frequency of words."
   ]
  },
  {
   "cell_type": "markdown",
   "metadata": {},
   "source": []
  },
  {
   "cell_type": "code",
   "execution_count": 81,
   "metadata": {},
   "outputs": [],
   "source": [
    "#split data into training and testing set: 30% testing, 70% training\n",
    "train_x, test_x, train_y, test_y = model_selection.train_test_split(combo_df['tokenized_text'], combo_df['binary_class'], test_size=0.3)"
   ]
  },
  {
   "cell_type": "code",
   "execution_count": 82,
   "metadata": {},
   "outputs": [],
   "source": [
    "#encoding to numerical values that the model can understand\n",
    "Encoder = LabelEncoder()\n",
    "train_y = Encoder.fit_transform(train_y)\n",
    "test_y = Encoder.fit_transform(test_y)"
   ]
  },
  {
   "cell_type": "code",
   "execution_count": 83,
   "metadata": {},
   "outputs": [
    {
     "name": "stdout",
     "output_type": "stream",
     "text": [
      "{'much': 3297, 'focus': 1617, 'monkeypox': 3257, 'recently': 3863, 'affect': 94, 'people': 3571, 'rich': 3965, 'country': 786, 'current': 837, 'outbreak': 3509, 'dr': 1286, 'mahzude': 2921, 'know': 2541, 'west': 4855, 'africa': 100, 'moneypox': 3251, 'endemic': 1404, 'hiv': 1875, 'icymi': 1948, 'first': 1597, 'probable': 3736, 'case': 532, 'virginia': 4780, 'identify': 1953, 'state': 4327, 'health': 1833, 'official': 3456, 'announce': 179, 'friday': 1660, 'yet': 4958, 'global': 1732, 'public': 3779, 'emergency': 1398, 'via': 4764, 'healthcare': 1834, 'accord': 38, 'cdc': 547, 'usually': 4723, 'spread': 4311, 'prolonged': 3752, 'direct': 1125, 'contact': 740, 'person': 3585, 'infectious': 2079, 'rash': 3831, 'scab': 4053, 'symptom': 4444, 'include': 2028, 'fever': 1577, 'headache': 1830, 'muscle': 3302, 'ache': 51, 'swollen': 4441, 'lymph': 2901, 'node': 3394, 'chill': 595, 'exhaustion': 1497, 'lgbtq': 2726, 'advocate': 90, 'care': 521, 'organization': 3493, 'raise': 3819, 'alarm': 129, 'thursday': 4536, 'response': 3951, 'new': 3360, 'york': 4963, 'amid': 159, 'concern': 708, 'access': 31, 'vaccine': 4734, 'update': 4705, 'data': 878, 'anyone': 196, 'contract': 752, 'info': 2093, 'number': 3425, 'texas': 4492, 'department': 1012, 'service': 4133, 'tuesday': 4633, 'get': 1718, 'test': 4490, 'think': 4519, 'infect': 2076, 'may': 3048, 'lose': 2854, 'fight': 1580, 'scientist': 4074, 'say': 4050, 'pm': 3640, 'utc': 4724, 'newspaper': 3366, 'bay': 321, 'area': 222, 'find': 1590, 'kqed': 2555, 'late': 2626, 'news': 3361, 'around': 229, 'monkeypoxvirus': 3263, 'monkeypoxalypse': 3258, 'cash': 533, 'credit': 807, 'rare': 3829, 'amp': 164, 'easily': 1354, 'without': 4899, 'close': 640, 'threat': 4528, 'general': 1702, 'nj': 3391, 'population': 3658, 'remain': 3912, 'low': 2871, 'information': 2095, 'visit': 4789, 'cdcgov': 549, 'healthierjc': 1835, 'jerseycity': 2332, 'post': 3668, 'men': 3104, 'likely': 2754, 'bathhouse': 317, 'sex': 4144, 'multiple': 3299, 'googlenews': 1750, 'dozen': 1285, 'line': 2765, 'city': 619, 'mailonline': 2924, 'french': 1656, 'body': 413, 'indicate': 2055, 'group': 1782, 'vaccinate': 4730, 'france': 1649, 'urge': 4711, 'jab': 2250, 'worker': 4910, 'rt': 4004, 'world': 4913, 'south': 4283, 'faster': 1551, 'virus': 4787, 'expert': 1507, 'contagious': 742, 'risk': 3976, 'level': 2716, 'carolina': 529, 'ask': 238, 'want': 4812, 'understand': 4668, 'govt': 1758, 'slow': 4238, 'roll': 3992, 'read': 3842, 'bit': 390, 'experience': 1504, 'like': 2752, 'mrjdwalsh': 3290, 'job': 2357, 'monkey': 3256, 'pox': 3677, 'report': 3924, 'kolkata': 2549, 'student': 4378, 'admit': 82, 'detects': 1061, 'newsworldpress': 3370, 'monkeypoxtally': 3260, 'opportunity': 3486, 'work': 4909, 'lizhighleyman': 2792, 'speakerpelosi': 4292, 'living': 2789, 'weekly': 4846, 'wastewater': 4822, 'assess': 245, 'extent': 1521, 'outside': 3514, 'thank': 4498, 'coronavirus': 771, 'alert': 132, 'network': 3356, 'tune': 4635, 'accessibility': 32, 'equity': 1436, 'biden': 366, 'administration': 81, 'distribute': 1200, 'additional': 73, 'dos': 1263, 'spike': 4305, 'begin': 336, 'preventive': 3715, 'vaccination': 4733, 'campaign': 504, 'vulnerable': 4801, 'longstanding': 2834, 'weakness': 4832, 'system': 4450, 'give': 1726, 'chance': 570, 'become': 329, 'entrenched': 1422, 'nytimes': 3438, 'presumed': 3706, 'need': 3347, 'disease': 1162, 'well': 4851, 'five': 1600, 'borough': 424, 'effort': 1379, 'advice': 88, 'nychealthy': 3431, 'united': 4682, 'sluggish': 4240, 'timid': 4548, 'reminiscent': 3916, 'early': 1350, 'day': 891, 'covid': 794, 'pandemic': 3531, 'troubling': 4617, 'question': 3802, 'nation': 3327, 'preparedness': 3698, 'hit': 1874, 'california': 500, 'community': 691, 'activist': 66, 'enough': 1415, 'do': 1223, 'yahoo': 4940, 'tally': 4463, 'grow': 1783, 'shipment': 4173, 'expect': 1502, 'arrive': 232, 'next': 3374, 'week': 4844, 'fall': 1539, 'short': 4181, 'national': 3328, 'receive': 3861, 'supply': 4407, 'mean': 3061, 'tell': 4479, 'clear': 630, 'eligibility': 1387, 'guideline': 1792, 'michigan': 3156, 'second': 4096, 'detroit': 1065, 'oakland': 3444, 'county': 787, 'two': 4643, 'instance': 2150, 'link': 2768, 'different': 1104, 'way': 4826, 'fluid': 1614, 'respiratory': 3949, 'secretion': 4098, 'intimate': 2190, 'physical': 3608, 'another': 185, 'barrier': 305, 'contain': 743, 'dearth': 912, 'sexual': 4145, 'clinic': 637, 'varma': 4749, 'note': 3409, 'recent': 3862, 'opinion': 3484, 'article': 234, 'time': 4546, 'check': 581, 'video': 4770, 'tiktok': 4542, 'confirmed': 720, 'houston': 1923, 'transmit': 4600, 'human': 1932, 'eye': 1525, 'nose': 3408, 'mouth': 3281, 'small': 4242, 'droplet': 1327, 'infected': 2077, 'animal': 176, 'material': 3032, 'contaminate': 745, 'take': 4460, 'precaution': 3684, 'protect': 3761, 'avoid': 276, 'someone': 4265, 'cause': 539, 'globally': 1735, 'reporting': 3928, 'gt': 1786, 'confirm': 718, 'san': 4036, 'francisco': 1650, 'sore': 4276, 'skin': 4227, 'lesion': 2702, 'thing': 4518, 'youtube': 4973, 'faq': 1547, 'oregon': 3491, 'misstep': 3222, 'sample': 4035, 'funnel': 1680, 'final': 1587, 'diagnosis': 1087, 'process': 3740, 'ship': 4172, 'commercial': 681, 'laboratory': 2580, 'readily': 3844, 'available': 273, 'sometime': 4268, 'month': 3266, 'longer': 2832, 'surveillance': 4422, 'spotty': 4310, 'count': 785, 'gross': 1779, 'underestimate': 4666, 'diagnose': 1085, 'clark': 625, 'interesting': 2177, 'implication': 1994, 'story': 4359, 'suggest': 4397, 'mpxv': 3288, 'susceptible': 4424, 'original': 3499, 'reservoir': 3942, 'send': 4114, 'surpass': 4417, 'wake': 4806, 'limit': 2759, 'rapid': 3827, 'diagnostic': 1088, 'hear': 1839, 'local': 2808, 'soon': 4273, 'fire': 1595, 'island': 2225, 'open': 3480, 'site': 4223, 'manhattan': 2959, 'ignore': 1963, 'queen': 3799, 'gay': 1697, 'method': 3133, 'quickly': 3804, 'epicenter': 1426, 'affected': 95, 'scramble': 4080, 'hand': 1805, 'limited': 2761, 'florida': 1611, 'wilton': 4886, 'manor': 2967, 'offer': 3453, 'pride': 3718, 'center': 557, 'make': 2935, 'appointment': 213, 'nyc': 3430, 'continue': 751, 'climb': 636, 'concerned': 709, 'yorkers': 4964, 'worried': 4916, 'rollout': 3993, 'target': 4468, 'right': 3970, 'southern': 4284, 'nevada': 3358, 'district': 1203, 'man': 2948, 'doctor': 1227, 'wish': 4896, 'patient': 3556, 'join': 2376, 'important': 1999, 'discussion': 1160, 'meningococcal': 3109, 'one': 3472, 'bad': 286, 'history': 1873, 'among': 161, 'stop': 4358, 'stream': 4367, 'summary': 4400, 'july': 2417, 'spain': 4286, 'recording': 3872, 'uk': 4653, 'uptick': 4709, 'high': 1866, 'italy': 2234, 'portugal': 3660, 'bright': 452, 'spot': 4309, 'total': 4576, 'today': 4559, 'interest': 2175, 'look': 2837, 'genome': 1710, 'strain': 4361, 'seem': 4105, 'miss': 3220, 'gene': 1701, 'normally': 3405, 'block': 402, 'specific': 4294, 'part': 3543, 'immune': 1982, 'complement': 697, 'perhaps': 3579, 'explain': 1508, 'mortality': 3274, 'surge': 4416, 'prominent': 3753, 'lgbt': 2724, 'lmfaooooosksk': 2799, 'locate': 2811, 'lane': 2608, 'holycitysinner': 1892, 'bisexual': 389, 'shot': 4184, 'bengal': 350, 'youth': 4972, 'hospital': 1913, 'suspected': 4426, 'india': 2050, 'westbengal': 4856, 'wltx': 4900, 'jr': 2400, 'since': 4216, 'sc': 4052, 'really': 3856, 'lack': 2583, 'vax': 4753, 'protection': 3763, 'pls': 3637, 'staff': 4321, 'keep': 2471, 'gabbystern': 1685, 'whoafro': 4870, 'aware': 278, 'many': 2971, 'place': 3623, 'raf': 3816, 'party': 3550, 'club': 646, 'festival': 1575, 'everything': 1473, 'zoiehenrynews': 4994, 'scdhec': 4063, 'tweet': 4638, 'dhec': 1080, 'infection': 2078, 'midland': 3169, 'region': 3889, 'lowcountry': 2872, 'especially': 1450, 'maryland': 3012, 'wbal': 4827, 'tv': 4637, 'baltimore': 295, 'full': 1671, 'coverage': 793, 'google': 1749, 'topstories': 4572, 'berkleybearnews': 355, 'rise': 3975, 'riverside': 3978, 'prove': 3769, 'could': 784, 'mistake': 3223, 'std': 4336, 'warn': 4816, 'smartnews': 4245, 'testing': 4491, 'bc': 323, 'centre': 559, 'control': 755, 'conduct': 714, 'potential': 3671, 'miafarrow': 3144, 'good': 1747, 'aerosol': 91, 'effective': 1375, 'produce': 3741, 'mass': 3022, 'speed': 4299, 'downward': 1284, 'trend': 4608, 'still': 4350, 'significantly': 4201, 'past': 3553, 'summer': 4401, 'variant': 4746, 'sight': 4197, 'across': 60, 'dose': 1264, 'denmark': 1000, 'headline': 1831, 'record': 3871, 'medium': 3082, 'enter': 1417, 'daily': 851, 'lexicon': 2719, 'add': 72, 'highlight': 1867, 'sf': 4150, 'ca': 496, 'democrat': 987, 'blast': 398, 'mess': 3125, 'top': 4569, 'run': 4011, 'represent': 3930, 'heart': 1842, 'big': 369, 'apple': 211, 'congress': 728, 'rip': 3974, 'let': 2707, 'red': 3875, 'tape': 4467, 'tie': 4539, 'importation': 2001, 'million': 3188, 'exposure': 1518, 'sfdph': 4152, 'partner': 3549, 'hard': 1814, 'arm': 228, 'goal': 1740, 'fuck': 1665, 'secondary': 4097, 'doorknob': 1258, 'etc': 1458, 'potentially': 3672, 'sneeze': 4251, 'cough': 783, 'sanfrancisco': 4037, 'localnews': 2810, 'europe': 1462, 'chief': 591, 'marty': 3007, 'medicine': 3081, 'though': 4524, 'main': 2928, 'see': 4103, 'far': 1548, 'vancouver': 4743, 'bring': 453, 'siga': 4195, 'approval': 216, 'drug': 1338, 'sell': 4111, 'brand': 435, 'tpoxx': 4585, 'also': 149, 'smallpox': 4243, 'cowpox': 799, 'spy': 4315, 'borisjohnson': 423, 'breaking': 440, 'year': 4952, 'worldwide': 4915, 'dems': 992, 'beg': 335, 'nypmetro': 3435, 'sit': 4222, 'increase': 2040, 'death': 913, 'circulate': 616, 'yr': 4974, 'expand': 1500, 'loudspeaker': 2861, 'statement': 4328, 'regard': 3887, 'decide': 933, 'detect': 1057, 'live': 2784, 'authority': 272, 'forsyth': 1636, 'select': 4107, 'initial': 2109, 'distribution': 1202, 'central': 558, 'location': 2812, 'rather': 3834, 'director': 1127, 'joshua': 2391, 'swift': 4436, 'confine': 717, 'meeting': 3089, 'set': 4135, 'journal': 2393, 'nursing': 3427, 'american': 158, 'society': 4257, 'nurse': 3426, 'eastern': 1356, 'nowhere': 3418, 'near': 3342, 'meet': 3088, 'chicago': 588, 'last': 2624, 'kingdom': 2514, 'germany': 1717, 'netherlands': 3355, 'canada': 506, 'zealand': 4984, 'newzealand': 3373, 'kiwi': 2530, 'nationwide': 3330, 'plan': 3625, 'finally': 1588, 'hhs': 1862, 'strategy': 4366, 'try': 4629, 'australia': 268, 'cnet': 651, 'viral': 4777, 'losangeles': 2852, 'aid': 114, 'foundation': 1641, 'call': 501, 'education': 1372, 'lawrence': 2649, 'medical': 3078, 'singapore': 4218, 'confirms': 721, 'fourth': 1643, 'wide': 4878, 'epicentre': 1427, 'percent': 3574, 'ny': 3429, 'occur': 3451, 'third': 4521, 'sweep': 4433, 'hell': 1847, 'kitchen': 2526, 'interested': 2176, 'lab': 2575, 'specifically': 4295, 'berkeley': 354, 'together': 4560, 'name': 3318, 'famous': 1544, 'answer': 186, 'frustrate': 1664, 'possible': 3666, 'pressing': 3705, 'voxdotcom': 4799, 'ahf': 111, 'repeat': 3921, 'delay': 969, 'declaration': 938, 'immediately': 1978, 'declare': 939, 'international': 2180, 'pheic': 3604, 'arkansas': 227, 'discover': 1152, 'activity': 67, 'watch': 4823, 'trinidad': 4613, 'tobago': 4558, 'belgium': 341, 'america': 157, 'mdhhs': 3059, 'identifies': 1952, 'three': 4530, 'broward': 460, 'prevent': 3712, 'labcorp': 2576, 'ramp': 3820, 'monitor': 3254, 'mpv': 3286, 'long': 2831, 'beach': 325, 'currently': 838, 'vigilant': 4773, 'head': 1829, 'wind': 4889, 'suffolk': 4396, 'northwell': 3407, 'longislandpress': 2833, 'situation': 4224, 'reveal': 3961, 'failure': 1535, 'seriously': 4130, 'ever': 1468, 'fighter': 1581, 'jet': 2339, 'go': 1739, 'weekend': 4845, 'uncertain': 4660, 'epidemic': 1428, 'jamaica': 2271, 'drjayvarma': 1319, 'fear': 1559, 'stay': 4334, 'ahead': 110, 'behind': 340, 'permanent': 3582, 'landscape': 2607, 'errollouis': 1445, 'inside': 2138, 'hall': 1803, 'cna': 648, 'explains': 1509, 'comprise': 702, 'vast': 4751, 'majority': 2933, 'unprecedented': 4694, 'talk': 4462, 'nbc': 3337, 'might': 3173, 'already': 148, 'weather': 4838, 'channel': 572, 'child': 592, 'old': 3468, 'woman': 4905, 'immunocompromised': 1987, 'carrier': 530, 'meanwhile': 3067, 'seven': 4139, 'north': 3406, 'federal': 1565, 'government': 1755, 'nsw': 3422, 'inhale': 2105, 'bodily': 412, 'object': 3446, 'statewide': 4329, 'dallas': 853, 'daddyland': 850, 'visitor': 4790, 'dcchs': 897, 'worth': 4919, 'fda': 1558, 'wait': 4804, 'inspect': 2145, 'plant': 3631, 'magazine': 2916, 'nashville': 3323, 'leader': 2666, 'investigate': 2202, 'tennessee': 4485, 'la': 2574, 'certain': 563, 'angelenos': 173, 'laist': 2599, 'lawmaker': 2648, 'decry': 945, 'ongoing': 3474, 'toll': 4563, 'mostly': 3276, 'please': 3635, 'mind': 3191, 'change': 571, 'recommend': 3868, 'source': 4282, 'fyi': 1683, 'help': 1850, 'washington': 4820, 'amount': 163, 'known': 2544, 'panic': 3533, 'necessary': 3346, 'chek': 584, 'shinzoabe': 4171, 'date': 880, 'illinois': 1966, 'regardless': 3888, 'orientation': 3497, 'learn': 2673, 'sign': 4198, 'upset': 4708, 'imported': 2002, 'break': 438, 'stand': 4325, 'entrench': 1421, 'metro': 3135, 'consider': 735, 'setting': 4137, 'aim': 117, 'celebration': 551, 'end': 1403, 'agency': 104, 'announces': 181, 'previous': 3716, 'june': 2422, 'start': 4326, 'kuabt': 2565, 'drdzul': 1299, 'debilitate': 919, 'pain': 3524, 'share': 4157, 'reconvene': 3870, 'committee': 684, 'discuss': 1159, 'fly': 1615, 'back': 284, 'growth': 1785, 'hour': 1920, 'brazil': 437, 'officially': 3457, 'austria': 270, 'sweden': 4432, 'pakistan': 3527, 'conference': 715, 'mediate': 3077, 'microangiopathy': 3158, 'langerhans': 2610, 'cell': 554, 'grateful': 1766, 'shoot': 4176, 'interview': 2186, 'nbcout': 3340, 'severe': 4142, 'nbcnews': 3338, 'free': 1653, 'coastal': 655, 'hospitalize': 1915, 'resident': 3943, 'positive': 3664, 'brian': 446, 'thomas': 4523, 'recover': 3873, 'lauderdale': 2637, 'feel': 1567, 'great': 1768, 'honestly': 1902, 'ok': 3465, 'deal': 905, 'legion': 2690, 'heal': 1832, 'believe': 343, 'critical': 815, 'pharmaceutical': 3601, 'leave': 2678, 'boston': 425, 'member': 3098, 'disproportionally': 1184, 'cbs': 543, 'los': 2851, 'angeles': 174, 'female': 1573, 'emergence': 1397, 'lineage': 2766, 'interestingly': 2178, 'geographic': 1712, 'weakened': 4831, 'age': 103, 'pregnant': 3692, 'ill': 1965, 'map': 2972, 'resource': 3947, 'activate': 63, 'eoc': 1425, 'support': 4408, 'challenge': 569, 'following': 1621, 'step': 4340, 'touch': 4578, 'kiss': 2522, 'hug': 1929, 'cuddle': 832, 'page': 3523, 'prevention': 3714, 'congregate': 727, 'sick': 4192, 'isolate': 2228, 'home': 1893, 'active': 64, 'separate': 4122, 'room': 3996, 'family': 1543, 'pet': 3591, 'rodent': 3985, 'primate': 3722, 'dead': 901, 'bedding': 331, 'eat': 1358, 'handle': 1806, 'towel': 4582, 'clothing': 644, 'wash': 4819, 'often': 3458, 'water': 4824, 'use': 4718, 'sanitizer': 4039, 'stage': 4323, 'completely': 699, 'illness': 1967, 'typically': 4647, 'sometimes': 4269, 'follow': 1619, 'others': 3507, 'image': 1970, 'swell': 4435, 'pimple': 3619, 'blister': 400, 'appear': 209, 'face': 1527, 'foot': 1625, 'genitals': 1708, 'anus': 191, 'isolation': 2230, 'wear': 4835, 'disposable': 1183, 'mask': 3015, 'cover': 792, 'pant': 3534, 'sheet': 4164, 'gown': 1760, 'detention': 1062, 'facility': 1530, 'homeless': 1895, 'dormitory': 1261, 'institute': 2153, 'essential': 1453, 'operation': 3482, 'reduce': 3877, 'stigma': 4346, 'provide': 3771, 'message': 3126, 'awareness': 279, 'stigmatize': 4349, 'communication': 689, 'frame': 1648, 'glove': 1737, 'respirator': 3948, 'equip': 1435, 'manage': 2949, 'carefully': 524, 'provider': 3772, 'symptoms': 4445, 'examines': 1484, 'notice': 3411, 'remind': 3914, 'disability': 1131, 'even': 1464, 'come': 674, 'qvoicenews': 3810, 'result': 3957, 'fresh': 1659, 'layer': 2653, 'intact': 2161, 'form': 1632, 'scoopzonkel': 4075, 'trace': 4586, 'determine': 1063, 'large': 2616, 'event': 1466, 'release': 3906, 'detail': 1055, 'type': 4645, 'circuit': 615, 'leather': 2677, 'attend': 261, 'author': 271, 'queer': 3800, 'nothing': 3410, 'anybody': 193, 'orthopoxviruses': 3505, 'acid': 52, 'position': 3663, 'protein': 3765, 'however': 1924, 'admin': 79, 'snafu': 4248, 'miami': 3145, 'herald': 1857, 'ecdc': 1360, 'assessment': 246, 'describe': 1037, 'unprepared': 4695, 'struggle': 4377, 'demand': 986, 'criticism': 816, 'suffer': 4393, 'plus': 3639, 'equality': 1433, 'housing': 1922, 'criticize': 817, 'israel': 2231, 'chile': 594, 'taiwan': 4459, 'book': 418, 'coronavirusoutbreak': 772, 'pace': 3521, 'mtosterholm': 3296, 'drericding': 1306, 'scottgottliebmd': 4078, 'erictopol': 1444, 'usa': 4716, 'suspect': 4425, 'un': 4657, 'soar': 4254, 'policy': 3647, 'sum': 4399, 'palmetto': 3528, 'status': 4333, 'advise': 89, 'ppe': 3680, 'prison': 3730, 'disabilitytwitter': 1132, 'epidemiology': 1430, 'therapy': 4513, 'memento': 3100, 'mori': 3268, 'saturdaymotivation': 4043, 'analyze': 169, 'green': 1769, 'catch': 536, 'painful': 3525, 'miserable': 3213, 'life': 2745, 'timeline': 4547, 'poxvirus': 3678, 'fail': 1533, 'prepare': 3696, 'plague': 3624, 'orthopoxvirus': 3504, 'almost': 143, 'push': 3791, 'order': 3490, 'thus': 4537, 'male': 2942, 'median': 3076, 'eight': 1381, 'coming': 678, 'dmv': 1219, 'wow': 4923, 'double': 1269, 'seditionscanner': 4102, 'six': 4225, 'continent': 750, 'house': 1921, 'move': 3282, 'sort': 4279, 'normal': 3404, 'social': 4256, 'cernovich': 562, 'host': 1916, 'virtual': 4783, 'town': 4584, 'treatment': 4607, 'involve': 2211, 'register': 3891, 'loisco': 2822, 'chelseapvrcella': 586, 'nypost': 3436, 'semen': 4112, 'vaginal': 4738, 'schedule': 4066, 'street': 4368, 'fair': 1536, 'caution': 540, 'beyond': 362, 'earlier': 1349, 'camden': 503, 'tracing': 4587, 'hundred': 1936, 'thousand': 4526, 'nearly': 3344, 'expose': 1516, 'able': 7, 'portuguese': 3661, 'inform': 2094, 'intotal': 2191, 'mainly': 2929, 'medication': 3080, 'common': 685, 'english': 1413, 'white': 4868, 'european': 1463, 'sequence': 4126, 'analysis': 168, 'show': 4187, 'dna': 1220, 'mutation': 3306, 'rate': 3833, 'per': 3573, 'caput': 517, 'immunization': 1985, 'globe': 1736, 'vega': 4758, 'stick': 4345, 'everyone': 1472, 'trending': 4609, 'apoorva': 206, 'mandavilli': 2957, 'nyt': 3437, 'specimen': 4297, 'belongs': 346, 'dc': 896, 'mpx': 3287, 'thread': 4527, 'action': 62, 'huffpost': 1928, 'sunday': 4403, 'least': 2675, 'jynneos': 2436, 'sun': 4402, 'publish': 3782, 'washingtonpost': 4821, 'whitehouse': 4869, 'monkeypoxvaccine': 3262, 'newyorkcity': 3372, 'awhile': 282, 'prevalence': 3710, 'none': 3397, 'closely': 641, 'medicalnews': 3079, 'mednews': 3083, 'retweet': 3959, 'respond': 3950, 'influx': 2092, 'flow': 1612, 'launch': 2639, 'pcr': 3561, 'monday': 3249, 'simple': 4210, 'saliva': 4032, 'self': 4108, 'pay': 3560, 'guidance': 1790, 'saturday': 4042, 'hr': 1925, 'pray': 3683, 'recovery': 3874, 'possibility': 3665, 'individual': 2058, 'amri': 166, 'mukundapur': 3298, 'negative': 3351, 'niv': 3389, 'pune': 3786, 'treat': 4606, 'chicken': 589, 'discharge': 1145, 'contrary': 753, 'mislead': 3216, 'claim': 622, 'online': 3475, 'viralfactsafrica': 4778, 'encounter': 1401, 'several': 4141, 'grows': 1784, 'along': 145, 'would': 4921, 'require': 3937, 'strategic': 4365, 'stockpile': 4355, 'hold': 1888, 'publichealth': 3780, 'redouad': 3876, 'relative': 3902, 'option': 3488, 'visualize': 4791, 'explore': 1513, 'collect': 662, 'screening': 4084, 'deny': 1010, 'absolutely': 19, 'lifestyleswithlaura': 2748, 'colorado': 669, 'environment': 1423, 'estimate': 1456, 'omicron': 3470, 'subvariant': 4386, 'every': 1469, 'england': 1412, 'patch': 3554, 'capacity': 513, 'commence': 679, 'suppose': 4410, 'administer': 80, 'berlin': 356, 'affenpocken': 96, 'reach': 3839, 'natgeo': 3326, 'accordingly': 39, 'deltaplex': 981, 'vaccinatio': 4732, 'spectator': 4298, 'invitation': 2208, 'aggressive': 106, 'pozmagazine': 3679, 'wearamask': 4836, 'epitwitter': 1432, 'business': 487, 'insider': 2140, 'assumption': 251, 'vital': 4792, 'ukhsa': 4654, 'briefing': 450, 'eu': 1460, 'price': 3717, 'develop': 1068, 'lng': 2802, 'market': 2994, 'wall': 4810, 'skyrocket': 4231, 'ago': 107, 'university': 4686, 'toronto': 4574, 'mount': 3278, 'research': 3939, 'alexmeshkin': 134, 'china': 597, 'internationally': 2181, 'ie': 1959, 'wo': 4901, 'deliver': 977, 'cynthiamckinney': 847, 'reason': 3858, 'evidence': 1475, 'relate': 3898, 'realsexycyborg': 3857, 'morning': 3269, 'extremely': 1524, 'science': 4072, 'gland': 1728, 'planned': 3629, 'despite': 1048, 'min': 3190, 'transgender': 4595, 'sexually': 4147, 'throughout': 4533, 'officer': 3455, 'virginian': 4781, 'destination': 1051, 'study': 4379, 'surface': 4415, 'ministry': 3206, 'aotearoa': 202, 'auckland': 265, 'travel': 4605, 'moh': 3246, 'arrival': 231, 'unexpected': 4673, 'nzpol': 3443, 'nz': 3439, 'tonight': 4567, 'return': 3958, 'overseas': 3518, 'reported': 3925, 'italian': 2233, 'fashion': 1549, 'blogger': 403, 'instagram': 2148, 'sure': 4414, 'whether': 4863, 'transmission': 4599, 'nzherald': 3441, 'malaysian': 2940, 'manufacturer': 2970, 'worldnews': 4914, 'hope': 1907, 'okay': 3466, 'quick': 3803, 'crisis': 812, 'bostonglobe': 426, 'coloradan': 668, 'pep': 3572, 'reader': 3843, 'weigh': 4848, 'income': 2029, 'investment': 2205, 'maker': 2936, 'bavarian': 320, 'nordic': 3402, 'problem': 3738, 'wvstatejournal': 4933, 'genetic': 1705, 'divergence': 1208, 'microevolution': 3162, 'jump': 2420, 'torbay': 4573, 'devon': 1073, 'extend': 1520, 'exposed': 1517, 'luxembourg': 2894, 'compatible': 695, 'point': 3643, 'technical': 4475, 'yesterday': 4957, 'researcher': 3940, 'london': 2827, 'rnz': 3981, 'interconnected': 2172, 'happy': 1812, 'rainbow': 3818, 'enjoy': 1414, 'safely': 4026, 'nhs': 3378, 'warning': 4817, 'tab': 4453, 'resides': 3944, 'zoonotic': 4998, 'cholera': 602, 'lassafever': 2623, 'measles': 3068, 'pose': 3662, 'significant': 4200, 'nigeria': 3380, 'onehealth': 3473, 'tackle': 4456, 'whilst': 4865, 'primary': 3721, 'route': 4001, 'air': 120, 'environmental': 1424, 'airborne': 122, 'discreminate': 1156, 'gender': 1700, 'identity': 1954, 'monkeypoxupdate': 3261, 'rarely': 3830, 'fatal': 1552, 'resolve': 3946, 'within': 4898, 'visible': 4788, 'pass': 3552, 'actually': 69, 'mid': 3166, 'indian': 2051, 'newshubnz': 3365, 'grey': 1771, 'bruce': 462, 'something': 4267, 'abundantly': 27, 'sexuality': 4146, 'safe': 4025, 'mitigate': 3232, 'meatmechsuit': 3071, 'minhealthnz': 3198, 'remember': 3913, 'whole': 4873, 'opensource': 3481, 'ai': 113, 'linux': 2770, 'java': 2295, 'later': 2628, 'meta': 3131, 'prophet': 3760, 'forecast': 1627, 'datascience': 879, 'clade': 621, 'hcid': 1827, 'wiltshire': 4887, 'pushpin': 3792, 'kissing': 2524, 'bed': 330, 'sharing': 4159, 'average': 274, 'immunesystem': 1983, 'jwgale': 2435, 'website': 4841, 'heard': 1840, 'fact': 1531, 'ericcrampton': 1442, 'amandakvalsvig': 153, 'pharmac': 3600, 'targeted': 4469, 'breakingnews': 441, 'yeah': 4950, 'therapeutic': 4512, 'upcoming': 4704, 'democratic': 988, 'republic': 3934, 'congo': 725, 'jeanmuyembe': 2309, 'perception': 3576, 'condom': 713, 'genital': 1707, 'bum': 477, 'ring': 3971, 'rock': 3983, 'reaction': 3841, 'label': 2577, 'internationalnews': 2182, 'newsfeed': 3363, 'viralnews': 4779, 'dailynews': 852, 'emerge': 1396, 'latin': 2634, 'mexico': 3136, 'mhealth': 3142, 'lax': 2651, 'senior': 4116, 'convenient': 758, 'fast': 1550, 'io': 2212, 'iot': 2213, 'lead': 2665, 'privacy': 3732, 'monitoring': 3255, 'minute': 3210, 'michael': 3148, 'primarily': 3720, 'amongst': 162, 'cluster': 647, 'document': 1230, 'difficulty': 1108, 'rogers': 3989, 'bedsheets': 332, 'title': 4552, 'category': 537, 'create': 805, 'editorial': 1369, 'review': 3963, 'deveryheart': 1071, 'hi': 1864, 'mild': 3182, 'comfortable': 677, 'condition': 712, 'finger': 1592, 'cross': 819, 'andorra': 170, 'designation': 1044, 'ebola': 1359, 'zika': 4992, 'flu': 1613, 'chart': 577, 'cumulative': 833, 'inhabitant': 2103, 'log': 2817, 'lisbon': 2774, 'tagus': 4458, 'valley': 4742, 'little': 2781, 'except': 1487, 'lot': 2858, 'bathroom': 318, 'hotspot': 1919, 'latestmonkeypox': 2630, 'pmpmagtoday': 3641, 'compare': 693, 'rest': 3954, 'regular': 3893, 'dashboard': 876, 'sport': 4308, 'four': 1642, 'lancashire': 2604, 'chickenpox': 590, 'wild': 4882, 'deployment': 1018, 'beginning': 337, 'enable': 1400, 'clinician': 639, 'manager': 2952, 'appropriate': 215, 'zeekzant': 4985, 'jaka': 2266, 'newsweek': 3369, 'cdcdirector': 548, 'investigation': 2203, 'towards': 4581, 'viable': 4765, 'conclusion': 710, 'inhalation': 2104, 'kit': 2525, 'content': 748, 'newsbreak': 3362, 'establish': 1455, 'gov': 1754, 'lamont': 2603, 'calm': 502, 'alarmed': 130, 'ohioan': 3462, 'ohio': 3461, 'physician': 3609, 'worry': 4917, 'contamination': 747, 'convene': 757, 'stuff': 4380, 'base': 308, 'gain': 1688, 'dangerous': 864, 'doc': 1224, 'complain': 696, 'ward': 4814, 'outrage': 3513, 'apparently': 208, 'hey': 1860, 'madrid': 2913, 'citizen': 618, 'cbc': 541, 'design': 1042, 'related': 3899, 'primer': 3724, 'key': 2486, 'issue': 2232, 'nowcasting': 3417, 'model': 3243, 'implies': 1995, 'correspond': 776, 'doubling': 1271, 'ci': 611, 'infrastructure': 2100, 'funding': 1679, 'logistics': 2821, 'priority': 3729, 'bath': 316, 'sauna': 4046, 'vastly': 4752, 'confirmation': 719, 'brief': 449, 'seek': 4104, 'widely': 4879, 'moment': 3248, 'guide': 1791, 'else': 1393, 'pic': 3611, 'unidentified': 4679, 'latestnews': 2631, 'newsupdates': 3368, 'unitedstates': 4683, 'urgent': 4713, 'yahoonews': 4941, 'gibraltar': 1723, 'differ': 1102, 'lancet': 2605, 'denver': 1009, 'eligible': 1388, 'sethklamann': 4136, 'trouble': 4616, 'multiply': 3300, 'half': 1802, 'sti': 4344, 'development': 1069, 'protocol': 3767, 'hmpxv': 1882, 'li': 2731, 'nassau': 3324, 'british': 455, 'columbia': 670, 'louisiana': 2862, 'either': 1382, 'shortage': 4182, 'npr': 3421, 'listen': 2776, 'fabric': 1526, 'kdhe': 2467, 'presumptive': 3707, 'kansa': 2444, 'kakenews': 2441, 'dixie': 1210, 'noon': 3399, 'immediate': 1977, 'abscond': 16, 'press': 3703, 'whereabouts': 4862, 'police': 3646, 'misinformation': 3215, 'coordinate': 764, 'encourage': 1402, 'clinical': 638, 'load': 2804, 'improvesociety': 2011, 'fulton': 1673, 'eradicate': 1440, 'vac': 4728, 'orthoviruses': 3506, 'leftover': 2685, 'immunity': 1984, 'wan': 4811, 'pretty': 3709, 'david': 884, 'expands': 1501, 'therefore': 4514, 'knowledge': 2543, 'nice': 3379, 'dept': 1022, 'colony': 666, 'unknown': 4687, 'less': 2704, 'bioterrorist': 385, 'attack': 259, 'harsh': 1819, 'side': 4194, 'effect': 1374, 'saw': 4049, 'gregggonsalves': 1770, 'containment': 744, 'button': 492, 'decade': 926, 'role': 3991, 'play': 3633, 'advance': 85, 'deadly': 902, 'meningitis': 3108, 'comment': 680, 'engage': 1409, 'daring': 870, 'getaway': 1719, 'escape': 1447, 'pen': 3568, 'clarendon': 624, 'window': 4890, 'ctn': 829, 'triple': 4615, 'regional': 3890, 'klugesaid': 2535, 'intensify': 2167, 'johnson': 2374, 'prepares': 3699, 'track': 4588, 'flee': 1606, 'vacation': 4729, 'gleaner': 1729, 'theatlantic': 4503, 'benmazer': 351, 'reluctantlyjoe': 3910, 'swab': 4429, 'md': 3057, 'probably': 3737, 'angryblkhoemo': 175, 'basically': 311, 'breath': 443, 'directly': 1126, 'breathe': 444, 'sores': 4277, 'oral': 3489, 'webpage': 4840, 'msm': 3293, 'behavior': 338, 'facilitate': 1529, 'pathogen': 3555, 'write': 4927, 'benryanwriter': 352, 'ben': 347, 'chat': 579, 'approve': 217, 'blood': 404, 'procedure': 3739, 'ldts': 2662, 'sensitive': 4119, 'validate': 4741, 'assay': 243, 'real': 3849, 'heykenric': 1861, 'basis': 312, 'russia': 4015, 'mix': 3233, 'simply': 4211, 'mymonkeypoxlife': 3310, 'dont': 1251, 'realize': 3854, 'serious': 4129, 'diagnostics': 1089, 'billhanage': 375, 'statistical': 4331, 'nuance': 3423, 'anytime': 198, 'outlet': 3512, 'parrot': 3542, 'traction': 4590, 'broad': 457, 'tx': 4644, 'quite': 3807, 'similar': 4208, 'happen': 1811, 'december': 929, 'jan': 2288, 'centristozzy': 560, 'lukewearechange': 2888, 'fomite': 1622, 'kyledchurch': 2572, 'nzlabour': 3442, 'nzgreens': 3440, 'differently': 1106, 'labour': 2581, 'couchgnome': 782, 'karengeier': 2451, 'prisonculture': 3731, 'booster': 420, 'never': 3359, 'otherwise': 3508, 'drsajumathew': 1332, 'disinformation': 1174, 'wrong': 4929, 'instead': 2152, 'falsely': 1541, 'must': 3303, 'onto': 3478, 'scene': 4065, 'highly': 1868, 'unlikely': 4690, 'appearance': 210, 'elielcruz': 1386, 'yes': 4956, 'inflammatory': 2086, 'inflammation': 2085, 'damage': 854, 'friend': 1661, 'internet': 2183, 'literature': 2779, 'avian': 275, 'amazing': 156, 'fitterhappieraj': 1599, 'overview': 3519, 'neither': 3353, 'mention': 3112, 'inhibitor': 2107, 'spice': 4304, 'generally': 1703, 'transmits': 4601, 'straight': 4360, 'shock': 4175, 'danger': 863, 'anything': 197, 'fortunately': 1637, 'die': 1096, 'consequence': 732, 'fauci': 1554, 'indeed': 2046, 'predominantly': 3689, 'jeanthorpe': 2310, 'major': 2932, 'difference': 1103, 'inoculate': 2123, 'dillbadboy': 1115, 'marklevinenyc': 2998, 'harlem': 1816, 'dgsaude': 1078, 'notify': 3412, 'hospitalization': 1914, 'slightly': 4237, 'due': 1342, 'holiday': 1890, 'systemic': 4451, 'agony': 108, 'er': 1438, 'management': 2951, 'clearly': 631, 'drc': 1297, 'western': 4857, 'import': 1997, 'govkathyhochul': 1756, 'healthnygov': 1836, 'thru': 4535, 'contaminated': 746, 'assume': 250, 'parentmishmash': 3540, 'loveruhl': 2870, 'pudgenet': 3783, 'apazyryk': 203, 'donttrustverfy': 1254, 'eg': 1380, 'expression': 1519, 'accurate': 46, 'theory': 4511, 'impt': 2012, 'meetjess': 3090, 'john': 2368, 'campbell': 505, 'deliberately': 974, 'sars': 4040, 'wise': 4895, 'minimise': 3200, 'messaging': 3127, 'mrna': 3292, 'non': 3396, 'combat': 671, 'trash': 4604, 'marlastrait': 3000, 'ariannaeditrix': 225, 'various': 4748, 'hmacbe': 1877, 'jeffsguardian': 2318, 'proven': 3770, 'wellness': 4853, 'lone': 2830, 'afternoon': 102, 'car': 518, 'law': 2646, 'matter': 3036, 'victim': 4767, 'mail': 2922, 'vaxx': 4755, 'ur': 4710, 'itch': 2235, 'aka': 126, 'lactfact': 2590, 'lactating': 2588, 'antiviral': 190, 'lactation': 2589, 'executive': 1495, 'eugena': 1461, 'photo': 3607, 'exponentially': 1515, 'collision': 664, 'progress': 3749, 'widespread': 4880, 'professional': 3744, 'secure': 4100, 'maybe': 3049, 'financial': 1589, 'hardship': 1815, 'impound': 2005, 'huge': 1930, 'burden': 482, 'luxury': 2896, 'alone': 144, 'marion': 2988, 'fox': 1644, 'indianapolis': 2053, 'province': 3773, 'tennessean': 4484, 'crash': 803, 'newsupdate': 3367, 'jack': 2254, 'quarantine': 3798, 'themohwgovjm': 4509, 'present': 3701, 'kern': 2481, 'bakersfield': 291, 'leak': 2671, 'politician': 3651, 'efficiently': 1378, 'ecosearch': 1364, 'cbsnews': 545, 'boy': 431, 'true': 4622, 'virulent': 4786, 'useful': 4719, 'seattle': 4094, 'earthquake': 1352, 'impact': 1992, 'mere': 3118, 'barrietoday': 306, 'felt': 1572, 'poke': 3645, 'hot': 1917, 'fork': 1631, 'slate': 4233, 'srilanka': 4318, 'shine': 4168, 'comparison': 694, 'rna': 3980, 'mutate': 3305, 'infamous': 2075, 'allow': 142, 'remote': 3917, 'fatality': 1553, 'lethal': 2708, 'historically': 1872, 'african': 101, 'latter': 2635, 'prior': 3727, 'decrease': 943, 'vs': 4800, 'ground': 1780, 'squirrel': 4316, 'natural': 3333, 'biowarfare': 386, 'kfi': 2491, 'radio': 3815, 'austin': 267, 'denton': 1008, 'difficult': 1107, 'debut': 924, 'korean': 2551, 'company': 692, 'put': 3794, 'pending': 3569, 'typical': 4646, 'search': 4091, 'underway': 4670, 'reportedly': 3926, 'mpox': 3285, 'discourage': 1151, 'warns': 4818, 'night': 3383, 'disaster': 1141, 'teacher': 4473, 'false': 1540, 'bvnry': 495, 'dental': 1004, 'hygienist': 1943, 'spring': 4314, 'dentalhygiene': 1005, 'dentalhygienist': 1007, 'hygiene': 1942, 'dentalhygieneschool': 1006, 'pick': 3613, 'shed': 4162, 'onset': 3477, 'promote': 3756, 'email': 1394, 'dhdoutbreak': 1079, 'argentina': 223, 'covidisnotover': 796, 'web': 4839, 'anal': 167, 'routine': 4002, 'screen': 4083, 'jail': 2265, 'infectiousdisease': 2080, 'speak': 4291, 'keye': 2487, 'barbados': 302, 'kenneth': 2479, 'george': 1713, 'kpix': 2552, 'criterion': 814, 'relief': 3909, 'shiloh': 4167, 'custody': 841, 'former': 1633, 'aiims': 116, 'bi': 364, 'hill': 1870, 'trusted': 4626, 'minister': 3205, 'likelihood': 2753, 'locally': 2809, 'relation': 3900, 'precede': 3685, 'connpost': 731, 'jordanfenster': 2387, 'ignorant': 1962, 'ghana': 1721, 'morocco': 3271, 'mailnyc': 2923, 'pop': 3656, 'address': 74, 'sudden': 4390, 'jay': 2297, 'permanently': 3583, 'mary': 3008, 'stress': 4369, 'importance': 1998, 'phase': 3602, 'attempt': 260, 'np': 3420, 'reliable': 3908, 'ct': 828, 'east': 1355, 'drive': 1315, 'disinfection': 1172, 'scholar': 4068, 'hmpv': 1881, 'epidemiologist': 1429, 'transmissibility': 4597, 'kavanagh': 2460, 'assignment': 248, 'prep': 3695, 'special': 4293, 'edition': 1367, 'dramatically': 1293, 'decreased': 944, 'finland': 1594, 'scrap': 4081, 'pustule': 3793, 'derek': 1028, 'james': 2279, 'unusual': 4700, 'trans': 4593, 'et': 1457, 'healthworld': 1837, 'pi': 3610, 'board': 408, 'team': 4474, 'halt': 1804, 'tlrd': 4556, 'http': 1926, 'menza': 3114, 'ohaoregon': 3460, 'wadepthealth': 4803, 'lacy': 2591, 'abortion': 11, 'supreme': 4413, 'court': 790, 'fm': 1616, 'kxlnews': 2571, 'kinkradio': 2518, 'unit': 4680, 'idtwitter': 1958, 'obgyntwitter': 3445, 'virueladelmono': 4785, 'medtwitter': 3086, 'manifestation': 2963, 'best': 359, 'informed': 2098, 'microbe': 3159, 'allot': 141, 'possibly': 3667, 'arizona': 226, 'tracker': 4589, 'period': 3581, 'promise': 3755, 'complete': 698, 'acquire': 58, 'bar': 301, 'insist': 2143, 'panel': 3532, 'dedicated': 946, 'piece': 3615, 'particular': 3546, 'journalist': 2395, 'informative': 2097, 'transmitted': 4602, 'classic': 627, 'sense': 4117, 'seriousness': 4131, 'example': 1485, 'parade': 3536, 'land': 2606, 'conversation': 759, 'refer': 3881, 'bore': 422, 'evening': 1465, 'omsi': 3471, 'pub': 3778, 'zoom': 4997, 'irl': 2218, 'turn': 4636, 'strike': 4371, 'herpes': 1858, 'intense': 2166, 'inoculation': 2125, 'diffuse': 1109, 'dog': 1234, 'scratch': 4082, 'bite': 392, 'meat': 3070, 'product': 3742, 'print': 3725, 'flees': 1607, 'lt': 2879, 'await': 277, 'kansas': 2445, 'ks': 2560, 'kmbc': 2536, 'justajoelsir': 2431, 'practice': 3682, 'dm': 1216, 'session': 4134, 'wednesday': 4842, 'dhscgovuk': 1083, 'acip': 53, 'syncytial': 4446, 'informational': 2096, 'kcbs': 2464, 'knssradio': 2546, 'diseases': 1163, 'topeka': 4570, 'ksleg': 2562, 'kingston': 2516, 'tufton': 4634, 'personal': 3586, 'kpvi': 2554, 'kuwaiti': 2570, 'lacounty': 2587, 'lanews': 2609, 'towleroad': 4583, 'perform': 3578, 'medtech': 3085, 'dive': 1206, 'laco': 2586, 'list': 2775, 'frequently': 1658, 'va': 4727, 'topic': 4571, 'sound': 4281, 'newyork': 3371, 'maricopa': 2985, 'prioritize': 3728, 'diagnosi': 1086, 'nasarawa': 3322, 'nine': 3386, 'lol': 2823, 'victoria': 4768, 'figure': 1582, 'drastically': 1294, 'guyana': 1796, 'georgia': 1715, 'jennifer': 2324, 'soooo': 4274, 'guy': 1795, 'miamiherald': 3146, 'height': 1845, 'relationship': 3901, 'disappears': 1138, 'jamaican': 2274, 'meandmynation': 3062, 'yournewsyourtimeyourway': 4970, 'longterm': 2835, 'underfunding': 4667, 'kron': 2557, 'scientific': 4073, 'inquirer': 2130, 'proactive': 3733, 'jamie': 2285, 'xxx': 4938, 'jamiehpevents': 2286, 'prevalent': 3711, 'clamor': 623, 'ktvu': 2564, 'mar': 2973, 'glitch': 1730, 'distributing': 1201, 'fill': 1584, 'choose': 603, 'slut': 4241, 'telling': 4481, 'uncommon': 4663, 'seventh': 4140, 'asmicrobiology': 239, 'ldt': 2661, 'reagent': 3848, 'away': 280, 'healthy': 1838, 'wellbeing': 4852, 'ready': 3846, 'colombia': 665, 'paper': 3535, 'adult': 84, 'lapublichealth': 2615, 'jaystrubberg': 2300, 'gun': 1794, 'violence': 4775, 'fix': 1601, 'poor': 3655, 'maddening': 2911, 'nypd': 3434, 'reserve': 3941, 'vip': 4776, 'firework': 1596, 'nyers': 3433, 'weed': 4843, 'sector': 4099, 'cidrap': 613, 'combine': 672, 'scenario': 4064, 'explode': 1511, 'hhsgov': 1863, 'int': 2160, 'percentage': 3575, 'actual': 68, 'define': 958, 'organizer': 3495, 'id': 1949, 'dcph': 898, 'puerto': 3784, 'rico': 3966, 'entire': 1419, 'navigate': 3336, 'kcr': 2466, 'indiapolitics': 2054, 'rsoe': 4003, 'edis': 1365, 'hazard': 1826, 'salt': 4033, 'lake': 2600, 'forum': 1638, 'facebook': 1528, 'yourchoicenews': 4968, 'foxnews': 1645, 'suffers': 4394, 'gap': 1690, 'lmao': 2796, 'gate': 1693, 'scott': 4076, 'matt': 3035, 'haney': 1809, 'proximity': 3774, 'ye': 4948, 'kung': 2566, 'parliamentary': 3541, 'reply': 3923, 'shut': 4189, 'sad': 4022, 'context': 749, 'forever': 1629, 'asymptomatic': 254, 'syringe': 4449, 'energy': 1407, 'rank': 3826, 'inequity': 2072, 'virology': 4782, 'battle': 319, 'rocky': 3984, 'shortcoming': 4183, 'reprise': 3931, 'writer': 4928, 'reduction': 3878, 'drop': 1326, 'journey': 2396, 'wave': 4825, 'single': 4219, 'lod': 2816, 'copy': 767, 'ml': 3236, 'idea': 1951, 'antigen': 189, 'glnrtoday': 1731, 'dramatic': 1292, 'obvious': 3449, 'inconspicuous': 2035, 'medrite': 3084, 'choice': 601, 'chelsea': 585, 'institution': 2154, 'ceo': 561, 'decline': 940, 'threaten': 4529, 'largely': 2617, 'popular': 3657, 'phone': 3606, 'dave': 882, 'atl': 256, 'exist': 1498, 'sepsis': 4123, 'loss': 2857, 'correct': 774, 'refers': 3883, 'described': 1038, 'massaging': 3024, 'jocohealth': 2359, 'spreading': 4313, 'shark': 4160, 'game': 1689, 'humanityatstake': 1935, 'humanhealth': 1933, 'deploy': 1017, 'vaccineswork': 4736, 'king': 2511, 'strand': 4362, 'demonstrate': 991, 'echo': 1361, 'khnews': 2494, 'connect': 729, 'klcc': 2534, 'drink': 1312, 'curb': 834, 'feature': 1562, 'kalapuya': 2442, 'native': 3332, 'protective': 3764, 'stock': 4354, 'commonly': 686, 'transmissible': 4598, 'decision': 935, 'debate': 916, 'exercise': 1496, 'legit': 2692, 'boo': 417, 'mental': 3111, 'disapointing': 1136, 'wtf': 4930, 'imma': 1976, 'as': 235, 'potus': 3673, 'handling': 1807, 'faith': 1537, 'throw': 4534, 'rational': 3835, 'brain': 434, 'congaree': 724, 'trick': 4611, 'kempojesse': 2478, 'sake': 4030, 'argument': 224, 'harm': 1817, 'kill': 2502, 'terrible': 4487, 'outcome': 3511, 'joebiden': 2361, 'literally': 2778, 'incapable': 2021, 'decisively': 936, 'beat': 327, 'bush': 486, 'welp': 4854, 'guess': 1789, 'wonder': 4906, 'tale': 4461, 'hoe': 1886, 'era': 1439, 'hoenderpoea': 1887, 'always': 152, 'lucky': 2885, 'mistercorrin': 3225, 'cjlittlemore': 620, 'alliance': 139, 'stigmatise': 4347, 'narrative': 3321, 'dimebagden': 1116, 'taxpayer': 4470, 'ensure': 1416, 'bet': 360, 'reading': 3845, 'signing': 4202, 'petition': 3592, 'genuinely': 1711, 'roe': 3986, 'deserve': 1040, 'attention': 262, 'mbourdeen': 3056, 'mightmaggie': 3174, 'excellent': 1486, 'invest': 2201, 'toilet': 4561, 'seat': 4093, 'originate': 3501, 'bout': 429, 'nobody': 3393, 'gon': 1745, 'na': 3314, 'war': 4813, 'kick': 2496, 'somebody': 4263, 'curious': 836, 'adequate': 76, 'decafshawty': 927, 'forget': 1630, 'insult': 2158, 'injury': 2116, 'ta': 4452, 'climate': 635, 'kholerakardash': 2495, 'lately': 2627, 'nih': 3385, 'paranoid': 3537, 'bell': 344, 'capitalism': 514, 'hate': 1822, 'banana': 297, 'littlehurt': 2782, 'ls': 2877, 'kid': 2498, 'school': 4069, 'corentin': 768, 'taboo': 4455, 'depend': 1013, 'dunno': 1346, 'brah': 433, 'sigh': 4196, 'stupidity': 4382, 'hurt': 1940, 'trust': 4625, 'weird': 4850, 'security': 4101, 'defense': 955, 'bill': 372, 'wildfire': 4883, 'denkenanalysis': 999, 'hemorrhoid': 1852, 'broke': 459, 'porn': 3659, 'upon': 4706, 'dengue': 996, 'xx': 4937, 'refuse': 3886, 'fun': 1676, 'justintrudeau': 2434, 'trudeau': 4620, 'adjective': 78, 'esp': 1449, 'acne': 57, 'universe': 4684, 'joyysea': 2398, 'mildanalyst': 3183, 'january': 2290, 'february': 1564, 'zone': 4996, 'hysterical': 1947, 'grid': 1772, 'deficiency': 957, 'syndrome': 4447, 'lloydlegalist': 2795, 'elonmusk': 1392, 'ffs': 1578, 'everybody': 1470, 'gavinnewsom': 1696, 'mayorlondonbred': 3055, 'ridiculous': 3969, 'dude': 1341, 'tho': 4522, 'fine': 1591, 'depends': 1014, 'sh': 4153, 'god': 1741, 'oh': 3459, 'incompetent': 2033, 'basic': 310, 'lebergerdavid': 2680, 'luck': 2883, 'mad': 2910, 'entirely': 1420, 'preventable': 3713, 'thought': 4525, 'bat': 315, 'tourism': 4580, 'unfortunately': 4674, 'limite': 2760, 'wound': 4922, 'word': 4908, 'jff': 2343, 'code': 656, 'responsible': 3953, 'minimize': 3202, 'scar': 4058, 'shit': 4174, 'fkn': 1602, 'margs': 2984, 'mosquito': 3275, 'fcc': 1557, 'editor': 1368, 'station': 4330, 'rude': 4006, 'cut': 842, 'telephone': 4478, 'monger': 3252, 'loon': 2841, 'act': 61, 'idiot': 1955, 'whenever': 4861, 'fool': 1624, 'marylandonenita': 3013, 'ref': 3880, 'somehow': 4264, 'henrymcmaster': 1855, 'certainly': 564, 'measure': 3069, 'absolute': 18, 'pretend': 3708, 'client': 634, 'girl': 1724, 'lock': 2813, 'digit': 1111, 'young': 4967, 'damn': 855, 'syphilis': 4448, 'experimental': 1506, 'lounge': 2864, 'rat': 3832, 'spend': 4302, 'abandon': 0, 'frequent': 1657, 'distancing': 1194, 'jessedamiani': 2333, 'selahinyorkpa': 4106, 'leg': 2686, 'hair': 1801, 'intelligence': 2164, 'rumor': 4010, 'putin': 3795, 'truth': 4627, 'inner': 2119, 'circle': 614, 'kadyrov': 2438, 'kisser': 2523, 'infinity': 2084, 'barcelona': 303, 'combo': 673, 'collapse': 660, 'field': 1579, 'kakdeeznutz': 2440, 'ltcmikeoliver': 2880, 'crazy': 804, 'subway': 4387, 'incl': 2026, 'logging': 2818, 'indonesia': 2061, 'varroa': 4750, 'mite': 3231, 'drown': 1329, 'ant': 187, 'yellow': 4954, 'lame': 2602, 'season': 4092, 'cousin': 791, 'whatever': 4859, 'lbisaillon': 2657, 'lilyluwhot': 2758, 'danapixie': 856, 'yoshineale': 4965, 'joeybird': 2366, 'outta': 3515, 'jdcocchiarella': 2306, 'spreader': 4312, 'jreinermd': 2401, 'nah': 3315, 'wxyzdetroit': 4934, 'boyfriend': 432, 'unless': 4688, 'extreme': 1523, 'light': 2750, 'agree': 109, 'flight': 1608, 'den': 994, 'tf': 4495, 'thanks': 4499, 'surprise': 4418, 'ballouxfrancois': 294, 'unpleasant': 4693, 'cool': 763, 'joe': 2360, 'hunter': 1938, 'discarded': 1142, 'crack': 801, 'youarelobbylud': 4966, 'indoor': 2062, 'lemming': 2696, 'merges': 3120, 'humanity': 1934, 'easy': 1357, 'jojofromjerz': 2377, 'consistently': 737, 'curve': 840, 'kivu': 2529, 'eventually': 1467, 'unclear': 4662, 'politics': 3652, 'reasonable': 3859, 'imo': 1991, 'joncoopertweets': 2379, 'jeffreymeursing': 2316, 'karenbassla': 2450, 'trump': 4624, 'lie': 2743, 'jeff': 2314, 'profile': 3746, 'follower': 1620, 'casual': 534, 'michelletandler': 3154, 'index': 2049, 'card': 520, 'walk': 4808, 'suck': 4389, 'fumble': 1675, 'save': 4048, 'couple': 788, 'decent': 930, 'leadership': 2668, 'alexberenson': 133, 'chinese': 598, 'kinda': 2509, 'idk': 1957, 'marlatellez': 3001, 'itzspelledgeoff': 2242, 'dip': 1121, 'mlive': 3237, 'bigot': 371, 'japan': 2292, 'prime': 3723, 'nasty': 3325, 'inconvenience': 2036, 'sailorrooscout': 4028, 'chise': 599, 'anxiety': 192, 'account': 40, 'trigger': 4612, 'input': 2128, 'bastard': 313, 'unhealthy': 4676, 'guarantee': 1787, 'freak': 1652, 'relax': 3904, 'dbeebestl': 895, 'sauce': 4045, 'tap': 4466, 'karma': 2455, 'bump': 478, 'anymore': 195, 'dianajmanwaring': 1091, 'kathyhochul': 2458, 'urgency': 4712, 'slowly': 4239, 'creep': 808, 'hochul': 1884, 'adam': 71, 'laurel': 2644, 'hilarious': 1869, 'polio': 3648, 'tucker': 4631, 'opportunist': 3485, 'brat': 436, 'horrible': 1911, 'advantage': 86, 'ugly': 4650, 'resist': 3945, 'michaelmalice': 3149, 'jimwill': 2351, 'shop': 4178, 'food': 1623, 'twice': 4640, 'exact': 1481, 'nigga': 3382, 'twerking': 4639, 'drag': 1287, 'intend': 2165, 'rename': 3919, 'sorry': 4278, 'rule': 4008, 'feb': 1563, 'pattern': 3558, 'paint': 3526, 'doin': 1237, 'lil': 2757, 'negligence': 3352, 'burn': 484, 'planet': 3628, 'alive': 135, 'finish': 1593, 'doco': 1225, 'hmm': 1878, 'influenza': 2091, 'mayoisspicyy': 3050, 'steve': 4342, 'zero': 4990, 'af': 93, 'naive': 3317, 'react': 3840, 'monster': 3265, 'theadvocatemag': 4501, 'folk': 1618, 'gop': 1752, 'inkling': 2117, 'adverse': 87, 'legionaries': 2691, 'yankee': 4945, 'globalbc': 1733, 'smh': 4246, 'disgust': 1168, 'postpone': 3669, 'scary': 4062, 'kpixtv': 2553, 'jessekellydc': 2334, 'homophobic': 1898, 'pas': 3551, 'imminent': 1979, 'nuclear': 3424, 'downfall': 1278, 'yup': 4980, 'invisible': 2207, 'til': 4543, 'parent': 3539, 'exponential': 1514, 'simultaneous': 4214, 'hide': 1865, 'asshole': 247, 'cleaner': 629, 'transfer': 4594, 'dirty': 1129, 'clean': 628, 'earth': 1351, 'yall': 4942, 'ample': 165, 'depth': 1023, 'favorite': 1556, 'safety': 4027, 'voter': 4797, 'elect': 1384, 'accountable': 42, 'fund': 1678, 'individually': 2059, 'dizzlecrypto': 1211, 'valid': 4740, 'willing': 4885, 'dearauntcrabby': 909, 'lackluster': 2584, 'super': 4404, 'georgetakei': 1714, 'fucker': 1666, 'lovely': 2868, 'morningmotivation': 3270, 'mountain': 3279, 'float': 1610, 'pridemonth': 3719, 'flatten': 1605, 'hello': 1849, 'aids': 115, 'ppl': 3681, 'ldoziershra': 2659, 'august': 266, 'lololol': 2825, 'bro': 456, 'libsoftiktok': 2739, 'kiltedwolfe': 2505, 'course': 789, 'nope': 3401, 'hook': 1904, 'filthy': 1586, 'rag': 3817, 'dominican': 1241, 'seattletimes': 4095, 'hookup': 1905, 'twitter': 4642, 'vaccinated': 4731, 'mom': 3247, 'predict': 3686, 'medal': 3074, 'honor': 1903, 'hunt': 1937, 'kneeling': 2538, 'drajm': 1289, 'disgraceful': 1167, 'power': 3675, 'ding': 1120, 'march': 2980, 'cenkuygur': 555, 'bomb': 415, 'ukraine': 4655, 'covids': 797, 'shooting': 4177, 'loumerloni': 2863, 'devers': 1070, 'marketspuke': 2996, 'lockdown': 2814, 'reagan': 3847, 'setup': 4138, 'economic': 1362, 'heavy': 1844, 'incoming': 2030, 'drealstudmuffin': 1302, 'mdnuhal': 3060, 'kingssorcerer': 2515, 'staceytheghost': 4320, 'dixidarlen': 1209, 'krslusa': 2558, 'trpsangl': 4618, 'mgtexp': 3141, 'llandoniffirg': 2793, 'abcnews': 2, 'toad': 4557, 'livestock': 2787, 'sneak': 4250, 'diphtheria': 1122, 'particularly': 3547, 'crime': 810, 'commie': 682, 'ccp': 546, 'oil': 3464, 'jimbohart': 2347, 'losing': 2856, 'whoever': 4872, 'acronym': 59, 'marburg': 2975, 'grief': 1773, 'gabehudson': 1686, 'sin': 4215, 'dowd': 1276, 'recession': 3864, 'personally': 3588, 'crowds': 822, 'sensible': 4118, 'chronic': 609, 'dgfhdjs': 1077, 'cute': 843, 'funny': 1681, 'diabetes': 1084, 'ukrainian': 4656, 'med': 3073, 'space': 4285, 'crowd': 820, 'hang': 1810, 'decoration': 942, 'decor': 941, 'nowadays': 3416, 'confuse': 722, 'mode': 3242, 'film': 1585, 'butthole': 491, 'max': 3041, 'nodmsperfavore': 3395, 'obviously': 3450, 'phoenixonwheels': 3605, 'shake': 4154, 'basement': 309, 'bunker': 481, 'convert': 760, 'joereadman': 2365, 'michellevisage': 3155, 'breakout': 442, 'im': 1969, 'insideeee': 2139, 'gabby': 1684, 'stern': 4341, 'invite': 2209, 'hopeful': 1908, 'reconsider': 3869, 'properly': 3759, 'shawn': 4161, 'mendes': 3106, 'milehighbrendan': 3184, 'bottom': 427, 'yep': 4955, 'disfigure': 1164, 'crap': 802, 'murder': 3301, 'hornet': 1910, 'cheer': 583, 'needlessly': 3349, 'force': 1626, 'working': 4912, 'gas': 1692, 'grocery': 1776, 'horrify': 1912, 'military': 3185, 'unprotected': 4696, 'river': 3977, 'hole': 1889, 'reuters': 3960, 'eww': 1480, 'markcuban': 2991, 'deforestation': 962, 'habitat': 1798, 'destruction': 1054, 'temperature': 4482, 'contribute': 754, 'ugh': 4649, 'scare': 4059, 'mfticpodcast': 3139, 'joeyrackets': 2367, 'bobslessons': 411, 'dannynomercy': 867, 'manceraymond': 2953, 'bunch': 480, 'pvtjokerus': 3796, 'fit': 1598, 'jessepstein': 2335, 'although': 151, 'tbh': 4471, 'term': 4486, 'boost': 419, 'jamahealthforum': 2270, 'ironically': 2219, 'lmk': 2800, 'fozzybearpdx': 1646, 'severity': 4143, 'inevitable': 2073, 'died': 1098, 'wipe': 4894, 'gheys': 1722, 'wokeness': 4903, 'shenzhen': 4165, 'maimeig': 2927, 'biotechnology': 384, 'ce': 550, 'certification': 565, 'racist': 3814, 'lgbtcenterorl': 2725, 'nbcolympics': 3339, 'rn': 3979, 'germ': 1716, 'dawg': 889, 'operational': 3483, 'holy': 1891, 'cow': 798, 'yay': 4946, 'ronfilipkowski': 3995, 'mandate': 2954, 'truly': 4623, 'pierrepoilievre': 3616, 'haha': 1800, 'derail': 1026, 'thats': 4500, 'overreact': 3517, 'drunk': 1339, 'driving': 1317, 'associate': 249, 'sexy': 4149, 'gorgeous': 1753, 'lady': 2595, 'nottinakotex': 3413, 'larslarsonshow': 2619, 'messiah': 3129, 'brianlenzkes': 447, 'davidbcollum': 885, 'jfawsta': 2341, 'viewer': 4772, 'skull': 4228, 'realdailywire': 3850, 'cure': 835, 'border': 421, 'grace': 1762, 'davereaboi': 883, 'jeffntaxes': 2315, 'uh': 4651, 'phd': 3603, 'clown': 645, 'whonigeria': 4874, 'doctoramaraa': 1228, 'diptheria': 1123, 'hendra': 1854, 'busy': 489, 'repswalwell': 3932, 'endless': 1405, 'sfchronicle': 4151, 'nixonist': 3390, 'exactly': 1482, 'eternityolive': 1459, 'delusional': 984, 'sweet': 4434, 'merciful': 3116, 'movie': 3283, 'imply': 1996, 'ldragoon': 2660, 'unavailable': 4659, 'sequel': 4125, 'alanbixter': 128, 'mate': 3031, 'fan': 1545, 'annoy': 182, 'whisper': 4867, 'defeat': 952, 'recognition': 3866, 'hopefully': 1909, 'memo': 3101, 'black': 393, 'juliaioffe': 2412, 'quiet': 3805, 'doubt': 1273, 'win': 4888, 'everyday': 1471, 'dermatillomania': 1031, 'incidence': 2024, 'mp': 3284, 'allergy': 138, 'silent': 4204, 'untested': 4698, 'mf': 3137, 'ball': 292, 'degenmummy': 965, 'lunatic': 2890, 'nft': 3375, 'sol': 4260, 'player': 3634, 'orthopox': 3503, 'sent': 4121, 'wd': 4828, 'bus': 485, 'train': 4591, 'blue': 407, 'shrug': 4188, 'nycmayor': 3432, 'johndmacari': 2371, 'joeborellinyc': 2362, 'impunitycity': 2013, 'yeahyeahyasmin': 4951, 'anyway': 199, 'sanitize': 4038, 'australian': 269, 'build': 472, 'winter': 4893, 'calgary': 499, 'stampede': 4324, 'drewsav': 1308, 'adopt': 83, 'necessarily': 3345, 'rweingarten': 4017, 'kattimpf': 2459, 'maryandbessie': 3009, 'found': 1640, 'nationality': 3329, 'origin': 3498, 'relevant': 3907, 'bank': 300, 'anywhere': 201, 'uhh': 4652, 'lay': 2652, 'judgment': 2407, 'deborahlipstadt': 921, 'scotus': 4079, 'edsuom': 1370, 'cry': 827, 'quote': 3809, 'mark': 2990, 'lysychen': 2904, 'infuriate': 2101, 'drmarinaharris': 1324, 'aspiration': 240, 'jemergence': 2321, 'nightmare': 3384, 'lisamarieboothe': 2773, 'dane': 861, 'cant': 511, 'glad': 1727, 'keen': 2470, 'matthaneysf': 3037, 'daughter': 881, 'surprised': 4419, 'downplay': 1281, 'recipe': 3865, 'unchecked': 4661, 'knock': 2540, 'asap': 236, 'inquest': 2129, 'jury': 2427, 'cop': 765, 'lyles': 2899, 'din': 1118, 'justify': 2432, 'planning': 3630, 'literal': 2777, 'isolating': 2229, 'background': 285, 'feeling': 1568, 'realistic': 3852, 'briefly': 451, 'mysterysolvent': 3312, 'box': 430, 'teach': 4472, 'master': 3028, 'art': 233, 'maskup': 3021, 'sylvesterturner': 4442, 'kelvincentrestage': 2476, 'podcast': 3642, 'maata': 2905, 'orleans': 3502, 'hop': 1906, 'race': 3812, 'deliberation': 975, 'bleed': 399, 'homophobia': 1897, 'invasion': 2196, 'sympathy': 4443, 'anyways': 200, 'cost': 779, 'darling': 874, 'nonsense': 3398, 'corner': 769, 'cite': 617, 'reinfections': 3895, 'delete': 971, 'collective': 663, 'loved': 2866, 'career': 522, 'jacket': 2257, 'color': 667, 'bug': 471, 'londonbreed': 2828, 'weak': 4829, 'evolve': 1478, 'jazzziered': 2301, 'abraxsys': 14, 'detector': 1060, 'mother': 3277, 'nature': 3335, 'socflyny': 4255, 'childhood': 593, 'totally': 4577, 'recognize': 3867, 'reality': 3853, 'accelerate': 29, 'criminal': 811, 'cattle': 538, 'christinapushaw': 606, 'conceptualjames': 707, 'survive': 4423, 'dis': 1130, 'gaelmcl': 1687, 'joshuamcclure': 2392, 'logic': 2819, 'immunize': 1986, 'kavitapmd': 2462, 'yaneerbaryam': 4944, 'accredited': 44, 'ya': 4939, 'lollipop': 2824, 'song': 4272, 'ear': 1348, 'sing': 4217, 'desperate': 1046, 'levity': 2718, 'kittiesrules': 2527, 'program': 3748, 'congratulation': 726, 'msmariablack': 3294, 'pewtergod': 3594, 'dancady': 857, 'soilecon': 4259, 'christopwfisher': 607, 'mouse': 3280, 'mochayak': 3239, 'tire': 4551, 'fucking': 1669, 'commit': 683, 'darksoulnight': 873, 'kavanaugh': 2461, 'love': 2865, 'candidate': 510, 'distance': 1193, 'prepared': 3697, 'discrimination': 1157, 'julredman': 2416, 'laden': 2593, 'relay': 3905, 'wade': 4802, 'jontyypenasar': 2384, 'afford': 98, 'huh': 1931, 'doomed': 1256, 'doom': 1255, 'co': 653, 'dearestdr': 910, 'ive': 2243, 'imagine': 1972, 'president': 3702, 'opposite': 3487, 'everywhere': 1474, 'undercounts': 4665, 'roundup': 4000, 'hypothetical': 1945, 'ol': 3467, 'crew': 809, 'till': 4544, 'lifestyle': 2747, 'breed': 445, 'desire': 1045, 'dear': 908, 'jennymcdougall': 2326, 'participate': 3544, 'view': 4771, 'tend': 4483, 'afraid': 99, 'publicly': 3781, 'independent': 2048, 'owner': 3520, 'lazzanzl': 2655, 'inaccuracies': 2017, 'presser': 3704, 'inaccuracy': 2018, 'math': 3033, 'insect': 2136, 'margaretthrosby': 2981, 'karenandrewsmp': 2449, 'wolf': 4904, 'exaggerated': 1483, 'imagined': 1973, 'curriculum': 839, 'swear': 4431, 'cat': 535, 'picture': 3614, 'lick': 2742, 'apocalypse': 205, 'drjinrussell': 1320, 'marcdaalder': 2978, 'scared': 4060, 'oops': 3479, 'misread': 3219, 'increasingly': 2042, 'lessermegadeath': 2705, 'corona': 770, 'script': 4086, 'victory': 4769, 'microbes': 3160, 'atagi': 255, 'edit': 1366, 'astray': 253, 'weary': 4837, 'dick': 1094, 'wreak': 4925, 'havoc': 1825, 'prefer': 3690, 'kakape': 2439, 'virtually': 4784, 'impossible': 2004, 'theme': 4508, 'sir': 4221, 'ixistant': 2247, 'hcw': 1828, 'consideration': 736, 'colleague': 661, 'approach': 214, 'nmadeinnz': 3392, 'minor': 3208, 'strong': 4374, 'convince': 762, 'didnt': 1095, 'badly': 288, 'luxon': 2895, 'marybaphomet': 3010, 'sadly': 4023, 'markhamill': 2997, 'dumb': 1344, 'melatinungsari': 3094, 'organize': 3494, 'lackoftoast': 2585, 'rapidly': 3828, 'slap': 4232, 'blame': 397, 'mandatory': 2956, 'jos': 2389, 'jackcolleton': 2256, 'hater': 1823, 'drain': 1288, 'hearing': 1841, 'desantis': 1034, 'khanimambobar': 2493, 'drsusannasif': 1335, 'leveridgelewis': 2717, 'leahbroodryknz': 2670, 'kingxenodia': 2517, 'dorries': 1262, 'stoke': 4356, 'version': 4763, 'lawd': 2647, 'inflation': 2088, 'insane': 2131, 'blow': 406, 'money': 3250, 'trip': 4614, 'drtedros': 1336, 'doh': 1236, 'shore': 4180, 'comms': 687, 'deplete': 1015, 'methylated': 3134, 'kerosene': 2482, 'realise': 3851, 'lyndonhood': 2903, 'nervous': 3354, 'delightful': 976, 'prob': 3735, 'ban': 296, 'husband': 1941, 'computer': 704, 'memory': 3102, 'instal': 2149, 'ireland': 2217, 'wrap': 4924, 'compromise': 703, 'pill': 3618, 'range': 3825, 'success': 4388, 'infinite': 2082, 'descent': 1036, 'doosie': 1259, 'keywords': 2490, 'omg': 3469, 'crowded': 821, 'thx': 4538, 'corrupt': 777, 'announcement': 180, 'legacy': 2687, 'mayonnaise': 3051, 'fuckin': 1668, 'desroundtree': 1049, 'internetdown': 2184, 'vmcorman': 4794, 'jus': 2428, 'stupid': 4381, 'crispr': 813, 'yuuuuuuge': 4981, 'caravan': 519, 'tank': 4465, 'domino': 1243, 'belief': 342, 'gof': 1742, 'bird': 388, 'sue': 4392, 'sack': 4021, 'voice': 4795, 'actively': 65, 'johornews': 2375, 'martijnoostveen': 3005, 'deck': 937, 'inclined': 2027, 'jamienzherald': 2287, 'vial': 4766, 'nh': 3377, 'krutikakuppalli': 2559, 'vote': 4796, 'disagreed': 1134, 'bee': 333, 'dazfaulkner': 893, 'jonfmiles': 2380, 'berniespofforth': 357, 'jo': 2356, 'minecraft': 3196, 'jrgoldman': 2402, 'controllable': 756, 'unlike': 4689, 'incubation': 2044, 'relatively': 3903, 'grip': 1775, 'confusion': 723, 'improve': 2009, 'weaken': 4830, 'progression': 3750, 'sickness': 4193, 'kind': 2508, 'effectively': 1376, 'communicate': 688, 'beautiful': 328, 'massive': 3026, 'walkerbragman': 4809, 'tigresseleanor': 4541, 'drtomlinsonep': 1337, 'mvankerkhove': 3309, 'anndepa': 178, 'livingwithstupid': 2790, 'distant': 1195, 'so': 4253, 'unvaxxed': 4703, 'tory': 4575, 'fake': 1538, 'pit': 3622, 'whine': 4866, 'disdain': 1161, 'bias': 365, 'root': 3997, 'strongly': 4375, 'lozzafox': 2874, 'conservatives': 734, 'immunosuppressed': 1989, 'dodge': 1231, 'production': 3743, 'yaneer': 4943, 'belong': 345, 'microorganism': 3163, 'microscope': 3164, 'somewhere': 4270, 'jamaicanow': 2275, 'dancehall': 859, 'defamatory': 951, 'dancerdad': 860, 'lifelong': 2746, 'worse': 4918, 'drgjackbrown': 1310, 'deutschland': 1066, 'deathbymonkies': 914, 'myocarditis': 3311, 'clot': 642, 'worthless': 4920, 'theater': 4502, 'door': 1257, 'definitely': 959, 'particle': 3545, 'sophielouisecc': 4275, 'violate': 4774, 'leftist': 2684, 'repthomasmassie': 3933, 'son': 4271, 'middle': 3167, 'bureaucracy': 483, 'discord': 1150, 'zombie': 4995, 'nftart': 3376, 'midlandsipc': 3170, 'lace': 2582, 'descend': 1035, 'ineptitude': 2070, 'snatch': 4249, 'jaw': 2296, 'equally': 1434, 'lgb': 2722, 'bloody': 405, 'jonoinaotearoa': 2383, 'ahhmandah': 112, 'forehead': 1628, 'cancel': 508, 'loud': 2860, 'proud': 3768, 'future': 1682, 'surround': 4421, 'training': 4592, 'jpweiland': 2399, 'soul': 4280, 'pt': 3777, 'charge': 573, 'chlamydia': 600, 'gonorrhea': 1746, 'manifest': 2962, 'blah': 395, 'mike': 3178, 'class': 626, 'indiana': 2052, 'timcast': 4545, 'mirror': 3212, 'lgbwiththet': 2730, 'peddle': 3564, 'bullshit': 476, 'marriage': 3002, 'drelidavid': 1305, 'election': 1385, 'assassination': 242, 'unemployment': 4672, 'usnews': 4721, 'lgbtrights': 2729, 'lgbtqequality': 2727, 'evolves': 1479, 'satisfactorily': 4041, 'inefficiency': 2069, 'powerful': 3676, 'kong': 2550, 'deputy': 1025, 'cnn': 652, 'andrewhewat': 171, 'loom': 2840, 'inexcusable': 2074, 'tip': 4550, 'fellow': 1571, 'grab': 1761, 'careful': 523, 'discoverlazio': 1153, 'discoveroma': 1154, 'lucyfarinellipc': 2887, 'drstacigruber': 1333, 'macron': 2909, 'stis': 4353, 'indicates': 2056, 'jayedylc': 2298, 'left': 2683, 'cheek': 582, 'carlson': 526, 'ruin': 4007, 'scapegoat': 4057, 'lower': 2873, 'ashamed': 237, 'snuff': 4252, 'repent': 3922, 'signer': 4199, 'senfeinstein': 4115, 'senalexpadilla': 4113, 'capolitics': 516, 'capol': 515, 'lapol': 2614, 'misty': 3229, 'hmmmm': 1880, 'originally': 3500, 'mayorbowser': 3054, 'govrondesantis': 1757, 'inconsiderate': 2034, 'sayin': 4051, 'lesson': 2706, 'apply': 212, 'learned': 2674, 'nearby': 3343, 'excessive': 1489, 'beetroot': 334, 'stigmatization': 4348, 'indoors': 2063, 'sham': 4155, 'silence': 4203, 'suit': 4398, 'justin': 2433, 'drip': 1313, 'abisolaalawode': 5, 'ignorance': 1961, 'aclarkwhitman': 56, 'letitripper': 2711, 'pool': 3654, 'superspreader': 4406, 'centaurus': 556, 'dash': 875, 'staysafe': 4335, 'loan': 2806, 'billion': 376, 'display': 1182, 'scale': 4054, 'loot': 2847, 'filibuster': 1583, 'dejoy': 967, 'comfort': 676, 'rexchapman': 3964, 'emoji': 1399, 'string': 4372, 'orgy': 3496, 'rioslade': 3972, 'premier': 3693, 'sensitivity': 4120, 'specificity': 4296, 'accurately': 47, 'presence': 3700, 'antibody': 188, 'approved': 218, 'kindly': 2510, 'alliancelgb': 140, 'jeez': 2313, 'purveyor': 3790, 'infotainment': 2099, 'kiwis': 2531, 'disservice': 1191, 'uncontrolled': 4664, 'dismantle': 1176, 'allergic': 137, 'latex': 2632, 'switch': 4440, 'buy': 493, 'besides': 358, 'tedros': 4477, 'wing': 4891, 'andrewvossy': 172, 'kayosports': 2463, 'instant': 2151, 'doubly': 1272, 'ism': 2226, 'discern': 1143, 'jonlevybu': 2381, 'likewise': 2756, 'dismissal': 1178, 'dismissive': 1179, 'hmmm': 1879, 'essence': 1452, 'chosen': 604, 'responsibility': 3952, 'lethalityjane': 2709, 'wont': 4907, 'enforce': 1408, 'peep': 3565, 'concentrate': 706, 'cuz': 844, 'carnival': 528, 'loveforcambridg': 2867, 'mailplus': 2925, 'jeep': 2312, 'legs': 2693, 'discovery': 1155, 'manpreetkailon': 2968, 'plenty': 3636, 'honest': 1901, 'understanding': 4669, 'perpetuate': 3584, 'melpomenemel': 3097, 'road': 3982, 'insurance': 2159, 'btw': 466, 'canadian': 507, 'rely': 3911, 'ohnoanyw': 3463, 'bigbootyazzrudy': 370, 'hjoycegender': 1876, 'tone': 4566, 'nail': 3316, 'millorbaby': 3189, 'denial': 998, 'decimate': 934, 'generation': 1704, 'political': 3649, 'agenda': 105, 'monogamous': 3264, 'withhold': 4897, 'bull': 474, 'briannawu': 448, 'piss': 3621, 'bristoliver': 454, 'accuse': 48, 'minimiser': 3201, 'brybrightside': 465, 'buckroper': 469, 'jeffreyyjr': 2317, 'espnfc': 1451, 'plane': 3627, 'lash': 2622, 'tl': 4554, 'irritable': 2222, 'wife': 4881, 'madiisonmoore': 2912, 'dogshit': 1235, 'personality': 3587, 'awful': 281, 'cruel': 823, 'propaganda': 3758, 'airline': 123, 'exec': 1494, 'fuel': 1670, 'launder': 2640, 'lyme': 2900, 'politically': 3650, 'thinking': 4520, 'loose': 2845, 'quit': 3806, 'selfish': 4109, 'bitch': 391, 'chadmorganesq': 567, 'nationwideradio': 3331, 'differentiate': 1105, 'purpose': 3788, 'distinction': 1196, 'variety': 4747, 'stfu': 4343, 'chasten': 578, 'contagion': 741, 'excuse': 1493, 'christufton': 608, 'jamaicaconstab': 2272, 'doesnt': 1233, 'irresponsible': 2221, 'chuckjnk': 610, 'couch': 781, 'fell': 1570, 'jessicatrosen': 2337, 'unvaxed': 4702, 'equivalent': 1437, 'lmfao': 2798, 'restriction': 3956, 'regret': 3892, 'johnberman': 2369, 'mickey': 3157, 'weapon': 4833, 'josh': 2390, 'dad': 849, 'rush': 4014, 'request': 3936, 'hurry': 1939, 'cromwellstuff': 818, 'cruffbsc': 824, 'disappear': 1137, 'ctvnews': 830, 'airport': 124, 'mat': 3029, 'carry': 531, 'danielsgoldman': 865, 'clickbait': 633, 'moron': 3272, 'dansongwriting': 868, 'strange': 4363, 'injection': 2113, 'darklordsparky': 871, 'juliusgoat': 2415, 'draw': 1295, 'dcsoufeast': 899, 'dread': 1300, 'demwhodatladies': 993, 'rough': 3998, 'deondrebmoore': 1011, 'judge': 2404, 'dimsie': 1117, 'dineshdsouza': 1119, 'dlmeets': 1215, 'efficacy': 1377, 'doiregaa': 1238, 'joyce': 2397, 'match': 3030, 'distract': 1198, 'doneford': 1245, 'donnellymjd': 1249, 'scruff': 4089, 'grindr': 1774, 'dramadelinquent': 1291, 'incompatible': 2031, 'mrmatthewtodd': 3291, 'stats': 4332, 'drewshade': 1309, 'driusan': 1314, 'drrupamarya': 1331, 'desperately': 1047, 'fearmongering': 1560, 'kenya': 2480, 'mikedixn': 3179, 'proof': 3757, 'kasiehunt': 2457, 'da': 848, 'naturally': 3334, 'ericmmatheny': 1443, 'attract': 264, 'ssap': 4319, 'reinstate': 3896, 'maskmandate': 3019, 'petri': 3593, 'dish': 1169, 'masks': 3020, 'deluded': 982, 'profit': 3747, 'debasement': 915, 'amoeba': 160, 'fentanyl': 1574, 'guard': 1788, 'fraud': 1651, 'weiner': 4849, 'heavily': 1843, 'woke': 4902, 'band': 298, 'observation': 3447, 'reinfection': 3894, 'defenseless': 956, 'fultonhealth': 1674, 'usage': 4717, 'definition': 960, 'gefgest': 1699, 'marginalize': 2982, 'disproportionately': 1185, 'perfect': 3577, 'rub': 4005, 'knowing': 2542, 'boil': 414, 'yuh': 4979, 'silver': 4206, 'bullet': 475, 'vector': 4757, 'theocracy': 4510, 'misogyny': 3217, 'supremacy': 4412, 'corporate': 773, 'corruption': 778, 'crumble': 825, 'ch': 566, 'celebrity': 552, 'groeblbubble': 1777, 'qualify': 3797, 'serve': 4132, 'mute': 3307, 'martindaubney': 3006, 'happyfishmedia': 1813, 'jackyan': 2262, 'imagery': 1971, 'utter': 4726, 'getvaccinated': 1720, 'helenckh': 1846, 'rampant': 3821, 'discipline': 1146, 'defend': 954, 'bio': 380, 'meteor': 3132, 'disruption': 1189, 'quo': 3808, 'destroy': 1052, 'huddlestonjs': 1927, 'educate': 1371, 'vaccines': 4735, 'leukaemia': 2715, 'malaria': 2939, 'kidney': 2499, 'stone': 4357, 'insomnia': 2144, 'imnotowned': 1990, 'insidersabc': 2141, 'karenmmiddleton': 2452, 'likeminded': 2755, 'introvertgay': 2194, 'coast': 654, 'butt': 490, 'isaacmissisaac': 2224, 'itslozxo': 2240, 'disinfect': 1171, 'jackmehoughjr': 2260, 'jamesdelingpole': 2281, 'jackposobiec': 2261, 'jadedcreative': 2263, 'jakespeedo': 2268, 'jamaicagleaner': 2273, 'bag': 290, 'jamaicaobserver': 2277, 'stir': 4352, 'accept': 30, 'jamaicastar': 2278, 'jamesdgreig': 2282, 'jamesmcdaniel': 2283, 'willfully': 4884, 'lambertbrownja': 2601, 'jaymichaelson': 2299, 'jbakcoleman': 2302, 'eric': 1441, 'joke': 2378, 'jebrafaushay': 2311, 'jenaglez': 2322, 'jenniferstweets': 2325, 'lsstaub': 2878, 'leaf': 2669, 'jerilryan': 2327, 'jeromeadamsmd': 2328, 'wheel': 4860, 'jerryiannelli': 2330, 'eliminate': 1389, 'diarrhea': 1093, 'shingle': 4169, 'crab': 800, 'cancer': 509, 'ass': 241, 'jmcrookston': 2354, 'remove': 3918, 'pice': 3612, 'innate': 2118, 'inherently': 2106, 'peer': 3566, 'jmeanypants': 2355, 'joepostingg': 2364, 'republican': 3935, 'joosyjew': 2386, 'mattzomeal': 3039, 'judgeclayj': 2405, 'excite': 1491, 'juicysharts': 2409, 'juliansaidwhat': 2413, 'julieroedding': 2414, 'mikeggibbs': 3180, 'junojuicer': 2425, 'junonetwork': 2426, 'juno': 2424, 'lining': 2767, 'anyhow': 194, 'karlousm': 2454, 'kdka': 2468, 'keepingkarlsson': 2472, 'kejanhaynes': 2474, 'runaway': 4012, 'driver': 1316, 'russian': 4016, 'bioweapon': 387, 'millbank': 3187, 'kevinsussman': 2484, 'spank': 4287, 'keyon': 2489, 'sale': 4031, 'khadijahknows': 2492, 'kingcloz': 2512, 'kiffercard': 2501, 'platform': 3632, 'harmful': 1818, 'shameful': 4156, 'killuminatilee': 2504, 'kingdoggoxrp': 2513, 'idjwi': 1956, 'yazz': 4947, 'friendly': 1662, 'ksnnews': 2563, 'kuow': 2568, 'melindadeslatte': 3096, 'ladepthealth': 2594, 'hoax': 1883, 'vaers': 4737, 'moderna': 3245, 'penis': 3570, 'latimes': 2633, 'lauramiers': 2642, 'laurbanbohemian': 2643, 'laurenboebert': 2645, 'leikandi': 2694, 'judging': 2406, 'ph': 3598, 'depts': 1024, 'deceptively': 932, 'leoniedelt': 2699, 'kemibadenoch': 2477, 'insanity': 2133, 'libertytarian': 2737, 'incompetence': 2032, 'sheep': 4163, 'lindarchilders': 2763, 'lithohedron': 2780, 'livetweetslate': 2788, 'dhookstead': 1082, 'disclose': 1147, 'lord': 2848, 'mercy': 3117, 'bin': 378, 'llemytheecon': 2794, 'invasive': 2197, 'longvariant': 2836, 'lorimcgourty': 2850, 'lpneumophila': 2875, 'lrnrose': 2876, 'swing': 4439, 'mahyartousi': 2920, 'mamaavesha': 2947, 'marcashew': 2977, 'maricopahealth': 2986, 'karen': 2448, 'sexuslly': 4148, 'desese': 1041, 'mayor': 3052, 'office': 3454, 'goodness': 1748, 'sri': 4317, 'lankan': 2612, 'nancy': 3319, 'pelosi': 3567, 'tight': 4540, 'whew': 4864, 'tj': 4553, 'marykre': 3011, 'lasvegaslocally': 2625, 'mathewnoknowles': 3034, 'profesterman': 3745, 'useless': 4720, 'maxblumenthal': 3042, 'smart': 4244, 'mayorancapolis': 3053, 'thehill': 4506, 'meechiimeech': 3087, 'menekseeseme': 3107, 'menplayla': 3110, 'mhshospital': 3143, 'dance': 858, 'michaelonporter': 3152, 'mikeycycling': 3181, 'norm': 3403, 'mindtoconrad': 3194, 'silly': 4205, 'missfittc': 3221, 'mistrixoctavian': 3227, 'shopping': 4179, 'de': 900, 'peak': 3563, 'depletion': 1016, 'structure': 4376, 'dankojones': 866, 'dermatology': 1032, 'mzzdefiant': 3313, 'havent': 1824, 'vaids': 4739, 'cold': 659, 'libtards': 2740, 'itzdizney': 2241, 'freedom': 1654, 'simulation': 4213, 'tamper': 4464, 'denbigh': 995, 'front': 1663, 'careless': 525, 'running': 4013, 'style': 4383, 'trial': 4610, 'venue': 4762, 'maskitorcasket': 3017, 'noyesjhumphrey': 3419, 'correctly': 775, 'diligent': 1114, 'larry': 2618, 'usual': 4722, 'yoiu': 4961, 'injure': 2115, 'machine': 2906, 'demographic': 990, 'minimal': 3199, 'kickithollywood': 2497, 'mine': 3195, 'hotel': 1918, 'solution': 4261, 'utopia': 4725, 'series': 4128, 'connection': 730, 'janus': 2291, 'potato': 3670, 'disabled': 1133, 'inaction': 2019, 'markdice': 2992, 'chair': 568, 'majorly': 2934, 'dem': 985, 'johnshopkinssph': 2373, 'drma': 1323, 'labor': 2579, 'imprisonment': 2008, 'insatiable': 2134, 'quehnsaya': 3801, 'ability': 4, 'shout': 4185, 'loser': 2855, 'macroalf': 2907, 'incredibly': 2043, 'dmmeeble': 1218, 'lgba': 2723, 'mod': 3241, 'dang': 862, 'unvaccinated': 4701, 'solve': 4262, 'donnanickitas': 1248, 'schoolnurses': 4070, 'disapeered': 1135, 'concoct': 711, 'elon': 1391, 'protected': 3762, 'ryanrallyoh': 4019, 'organisation': 3492, 'looker': 2838, 'scottadamssays': 4077, 'app': 207, 'seanriffle': 4090, 'zubymusic': 4999, 'lotr': 2859, 'meme': 3099, 'al': 127, 'migrant': 3176, 'interdict': 2174, 'ja': 2249, 'bust': 488, 'random': 3823, 'ravage': 3836, 'skynews': 4230, 'sleepyknave': 4235, 'lordofvillainy': 2849, 'mirandadevine': 3211, 'october': 3452, 'stillgray': 4351, 'language': 2611, 'realjameswoods': 3855, 'jackhole': 2258, 'donkeypox': 1247, 'liberal': 2733, 'abkafitzhenley': 6, 'accomplice': 36, 'tough': 4579, 'theyre': 4516, 'bartender': 307, 'liberaldems': 2734, 'disturb': 1204, 'dot': 1266, 'unfounded': 4675, 'theerudyru': 4504, 'djordxc': 1212, 'disappointed': 1139, 'disclosure': 1149, 'jherbatov': 2345, 'doubledoublejon': 1270, 'davidseandunn': 888, 'imudlet': 2015, 'kuntrella': 2567, 'drstevejacobs': 1334, 'dhilotweets': 1081, 'msnbc': 3295, 'theinsiderpaper': 4507, 'kira': 2520, 'thevivafrei': 4515, 'jane': 2289, 'ape': 204, 'timrunshismouth': 4549, 'error': 1446, 'destabilization': 1050, 'september': 4124, 'cycle': 846, 'drkeithrowley': 1321, 'transportation': 4603, 'hack': 1799, 'spew': 4303, 'fearmongers': 1561, 'annual': 183, 'increased': 2041, 'untvnewsrescue': 4699, 'table': 4454, 'pan': 3530, 'manageable': 2950, 'dress': 1307, 'markojvwrites': 2999, 'waitingonbiden': 4805, 'hysteria': 1946, 'macroliter': 2908, 'drmikeryan': 1325, 'whoemro': 4871, 'whowpro': 4876, 'whophilippines': 4875, 'bud': 470, 'brown': 461, 'swallow': 4430, 'lazy': 2654, 'xaddycorvinusxx': 4935, 'atlanta': 257, 'yikes': 4959, 'loop': 2844, 'zafarcakes': 4982, 'zendercritical': 4988, 'instruction': 2156, 'alpha': 147, 'kappa': 2447, 'homosexual': 1899, 'itchy': 2236, 'laugh': 2638, 'killer': 2503, 'conservative': 733, 'transit': 4596, 'wakeup': 4807, 'lgbtqia': 2728, 'knowyourstatus': 2545, 'ithoughtweweregoingto': 2238, 'drought': 1328, 'latvia': 2636, 'lfcc': 2720, 'jealous': 2308, 'sparkle': 4290, 'loveparade': 2869, 'jamaicantwitter': 2276, 'saturdayvibes': 4044, 'dummy': 1345, 'feed': 1566, 'tomorrow': 4565, 'unable': 4658, 'rent': 3920, 'venmo': 4760, 'michaelnicolo': 3151, 'abc': 1, 'lunacy': 2889, 'unserious': 4697, 'breakfast': 439, 'jah': 2264, 'amaze': 155, 'dismiss': 1177, 'marketing': 2995, 'gold': 1743, 'charity': 574, 'benefit': 349, 'embrace': 1395, 'lightning': 2751, 'disinfo': 1173, 'malice': 2944, 'ups': 4707, 'coincidence': 657, 'lindsey': 2764, 'fancy': 1546, 'merch': 3115, 'googling': 1751, 'links': 2769, 'reductive': 3879, 'suffice': 4395, 'weaponize': 4834, 'terrify': 4489, 'messy': 3130, 'kylie': 2573, 'drill': 1311, 'fully': 1672, 'throat': 4532, 'baby': 283, 'vaxed': 4754, 'idc': 1950, 'debt': 923, 'inflate': 2087, 'forward': 1639, 'appt': 219, 'innocent': 2120, 'mistrust': 3228, 'misquote': 3218, 'misunderstand': 3230, 'deeply': 948, 'flip': 1609, 'invited': 2210, 'simile': 4209, 'mindful': 3192, 'mistrix': 3226, 'canvass': 512, 'alarmism': 131, 'flame': 1603, 'evil': 1476, 'jelly': 2320, 'mash': 3014, 'bend': 348, 'creator': 806, 'speedy': 4300, 'riot': 3973, 'dl': 1214, 'deja': 966, 'jersey': 2331, 'dense': 1003, 'davidhollandmd': 887, 'milk': 3186, 'initiate': 2110, 'el': 1383, 'round': 3999, 'inch': 2023, 'lies': 2744, 'diesel': 1099, 'def': 950, 'dry': 1340, 'failed': 1534, 'delivery': 979, 'jumaji': 2418, 'pack': 3522, 'needle': 3348, 'fr': 1647, 'nip': 3388, 'bbc': 322, 'abundance': 26, 'intermediate': 2179, 'helpful': 1851, 'lawrencegostin': 2650, 'legal': 2688, 'losangelesblade': 2853, 'proactively': 3734, 'dorealley': 1260, 'bumpy': 479, 'inoculated': 2124, 'supposedly': 4411, 'pfizer': 3595, 'paxlovid': 3559, 'manly': 2965, 'knew': 2539, 'abortionishealthcare': 12, 'abroad': 15, 'gravity': 1767, 'lem': 2695, 'handy': 1808, 'dodging': 1232, 'bear': 326, 'grandma': 1763, 'legendary': 2689, 'middlebrook': 3168, 'maxwellbiosci': 3047, 'innovation': 2122, 'londontranspride': 2829, 'maintain': 2931, 'dat': 877, 'disheartening': 1170, 'jumper': 2421, 'charli': 575, 'defo': 961, 'lbgtqhealhcare': 2656, 'partly': 3548, 'meaning': 3063, 'maga': 2915, 'fault': 1555, 'deafen': 904, 'slide': 4236, 'tryna': 4630, 'marsburg': 3004, 'impressed': 2006, 'dream': 1303, 'scheme': 4067, 'massage': 3023, 'homosexuality': 1900, 'lift': 2749, 'rabbit': 3811, 'episode': 1431, 'est': 1454, 'leap': 2672, 'escapee': 1448, 'gather': 1694, 'lad': 2592, 'dollar': 1239, 'jigsaw': 2346, 'constant': 739, 'gym': 1797, 'refresh': 3885, 'dial': 1090, 'savage': 4047, 'spite': 4306, 'dire': 1124, 'indication': 2057, 'item': 2237, 'insanely': 2132, 'wrestling': 4926, 'insufficient': 2157, 'sequencing': 4127, 'existence': 1499, 'irrational': 2220, 'lookout': 2839, 'jenmcqwrites': 2323, 'dig': 1110, 'intercourse': 2173, 'entertainment': 1418, 'progressive': 3751, 'fuckery': 1667, 'mandeville': 2958, 'dovetail': 1275, 'animus': 177, 'homo': 1896, 'rona': 3994, 'ride': 3968, 'formerly': 1634, 'crush': 826, 'screw': 4085, 'nigerian': 3381, 'yt': 4975, 'loooool': 2843, 'spare': 4288, 'dearly': 911, 'tactic': 4457, 'lyft': 2897, 'matthew': 3038, 'pestilence': 3590, 'diver': 1207, 'migraine': 3175, 'ii': 1964, 'maximizers': 3045, 'maximize': 3044, 'messenger': 3128, 'description': 1039, 'maureen': 3040, 'manufacture': 2969, 'girlies': 1725, 'letter': 2714, 'meh': 3092, 'dare': 869, 'plug': 3638, 'ministryofhealth': 3207, 'premiere': 3694, 'randy': 3824, 'dreary': 1304, 'simpson': 4212, 'dexamethasone': 1074, 'inspection': 2146, 'grant': 1764, 'dust': 1347, 'dildo': 1113, 'livelihood': 2785, 'inaccessible': 2016, 'delayed': 970, 'imbecile': 1975, 'dispatch': 1181, 'puppet': 3787, 'intrest': 2192, 'absurdity': 24, 'conspiracy': 738, 'beware': 361, 'suspend': 4427, 'lateral': 2629, 'text': 4494, 'hellish': 1848, 'disfigurement': 1165, 'jcf': 2303, 'boat': 409, 'mock': 3240, 'reminder': 3915, 'duh': 1343, 'dove': 1274, 'lurking': 2893, 'extra': 1522, 'supporter': 4409, 'inhuman': 2108, 'garbage': 1691, 'meded': 3075, 'undetected': 4671, 'steep': 4339, 'lc': 2658, 'reprehensible': 3929, 'disingenuous': 1175, 'logically': 2820, 'derogatory': 1033, 'hence': 1853, 'modern': 3244, 'jusinter': 2429, 'jessicadean': 2336, 'inspire': 2147, 'kamala': 2443, 'reporter': 3927, 'rum': 4009, 'ryan': 4018, 'saint': 4029, 'lucians': 2882, 'shinzo': 4170, 'abe': 3, 'lag': 2597, 'lede': 2681, 'arrest': 230, 'lmaoo': 2797, 'promiscuous': 3754, 'lankas': 2613, 'abstain': 21, 'lef': 2682, 'supermarket': 4405, 'dit': 1205, 'leadermcconnell': 2667, 'mr': 3289, 'license': 2741, 'indoctrinated': 2060, 'truck': 4619, 'detectable': 1058, 'sleep': 4234, 'mgmt': 3140, 'alot': 146, 'bruh': 463, 'sutton': 4428, 'racial': 3813, 'denote': 1002, 'married': 3003, 'simian': 4207, 'staffed': 4322, 'inflict': 2089, 'appts': 220, 'downturn': 1283, 'bf': 363, 'accuracy': 45, 'absence': 17, 'confidence': 716, 'interval': 2185, 'subject': 4384, 'bob': 410, 'suddenly': 4391, 'url': 4714, 'japanese': 2293, 'yugiohs': 4978, 'incarcerate': 2022, 'disregard': 1187, 'kmt': 2537, 'requirement': 3938, 'lucy': 2886, 'liu': 2783, 'onlyfans': 3476, 'intellectually': 2163, 'detection': 1059, 'selfishness': 4110, 'baffling': 289, 'excess': 1488, 'malfeasance': 2943, 'devastate': 1067, 'zainrizvi': 4983, 'malcolmoutloud': 2941, 'devils': 1072, 'expense': 1503, 'incur': 2045, 'aint': 119, 'disappointment': 1140, 'barely': 304, 'yea': 4949, 'terribly': 4488, 'function': 1677, 'scrub': 4088, 'irritate': 2223, 'bingo': 379, 'accompany': 35, 'diff': 1101, 'brush': 464, 'paraphrase': 3538, 'adage': 70, 'cometh': 675, 'grapple': 1765, 'rokfin': 3990, 'institutionally': 2155, 'exchange': 1490, 'technician': 4476, 'inactivates': 2020, 'microbiology': 3161, 'lness': 2801, 'factor': 1532, 'jesus': 2338, 'christ': 605, 'wuhan': 4931, 'delta': 980, 'tool': 4568, 'abyss': 28, 'jk': 2353, 'lfg': 2721, 'xcad': 4936, 'zil': 4993, 'peace': 3562, 'mutual': 3308, 'menace': 3105, 'delivers': 978, 'discriminatory': 1158, 'introduce': 2193, 'designate': 1043, 'reject': 3897, 'lea': 2664, 'looool': 2842, 'lesbian': 2701, 'twink': 4641, 'manhunt': 2960, 'yo': 4960, 'maskless': 3018, 'yooooo': 4962, 'mutant': 3304, 'yucky': 4977, 'yuck': 4976, 'poll': 3653, 'spell': 4301, 'scaremongering': 4061, 'sky': 4229, 'heterosexual': 1859, 'loosy': 2846, 'insert': 2137, 'unnecessary': 4691, 'jimiuorio': 2349, 'mking': 3235, 'maim': 2926, 'stroke': 4373, 'infertility': 2081, 'pfizerdocuments': 3597, 'disclosetv': 1148, 'klaus': 2533, 'dost': 1265, 'sponsor': 4307, 'manipulate': 2964, 'deception': 931, 'gee': 1698, 'minion': 3204, 'lolz': 2826, 'plandemic': 3626, 'scam': 4055, 'shutdown': 4190, 'intestine': 2187, 'absorbing': 20, 'preference': 3691, 'ballot': 293, 'november': 3415, 'smoke': 4247, 'mongering': 3253, 'bound': 428, 'deep': 947, 'stranger': 4364, 'immoral': 1980, 'tuckercarlson': 4632, 'derivative': 1029, 'engineering': 1411, 'detailed': 1056, 'inpatient': 2126, 'communist': 690, 'isnt': 2227, 'adhere': 77, 'engineer': 1410, 'kevinlunseth': 2483, 'alter': 150, 'pfizeradmittedallanim': 3596, 'leonardibot': 2698, 'drdavemartin': 1298, 'dennisprager': 1001, 'benshapiro': 353, 'scrowder': 4087, 'tlloydjones': 4555, 'cnbv': 650, 'mixed': 3234, 'buckle': 468, 'monkeypoxisairborne': 3259, 'marberg': 2974, 'pharma': 3599, 'liquid': 2771, 'jockstrap': 2358, 'shove': 4186, 'experiment': 1505, 'liver': 2786, 'cia': 612, 'liar': 2732, 'assemble': 244, 'peril': 3580, 'thrive': 4531, 'dispute': 1186, 'jonny': 2382, 'hodgetwins': 1885, 'gullibility': 1793, 'dontstickyourdickinamansass': 1253, 'liberalworldorder': 2736, 'itshappening': 2239, 'invent': 2198, 'melbstormrocks': 3095, 'covidisairborne': 795, 'shill': 4166, 'complex': 700, 'detox': 1064, 'daycare': 892, 'le': 2663, 'palsy': 3529, 'sads': 4024, 'debauchery': 917, 'laseletzky': 2621, 'illuminati': 1968, 'pump': 3785, 'kaori': 2446, 'gavi': 1695, 'aerosolize': 92, 'hype': 1944, 'deaf': 903, 'jgnightingale': 2344, 'achatnoir': 50, 'johngalto': 2372, 'imtyocum': 2014, 'lespritleibniz': 2703, 'doubiedizzie': 1268, 'yourmisinformed': 4969, 'deangeliscorey': 907, 'midterm': 3171, 'cadence': 497, 'swine': 4438, 'copd': 766, 'asthma': 252, 'tellin': 4480, 'unplanned': 4692, 'infinitesimal': 2083, 'mainstream': 2930, 'vivacityrules': 4793, 'downgrade': 1279, 'cbsmornings': 544, 'hepatitis': 1856, 'kids': 2500, 'dnt': 1221, 'anonymous': 184, 'genjibear': 1709, 'deceive': 928, 'psyop': 3776, 'jakesucky': 2269, 'exploit': 1512, 'abt': 25, 'roevwade': 3987, 'junkie': 2423, 'menu': 3113, 'vanessabeeley': 4744, 'dissonance': 1192, 'voting': 4798, 'sodomy': 4258, 'incorrect': 2039, 'explanation': 1510, 'diaper': 1092, 'groundbreaking': 1781, 'biolab': 381, 'intentionally': 2171, 'flat': 1604, 'comply': 701, 'ajbalkans': 125, 'bombshell': 416, 'warfare': 4815, 'elite': 1390, 'immortalinquiry': 1981, 'chemical': 587, 'cvd': 845, 'steal': 4338, 'intellectual': 2162, 'building': 473, 'affiliation': 97, 'kcdartexpress': 2465, 'submission': 4385, 'uruguay': 4715, 'vaxxed': 4756, 'ineffective': 2068, 'downsize': 1282, 'liberals': 2735, 'economy': 1363, 'airborn': 121, 'drjamesolsson': 1318, 'felchi': 1569, 'wef': 4847, 'investor': 2206, 'chimpanzee': 596, 'adenovirus': 75, 'inject': 2111, 'derive': 1030, 'manmade': 2966, 'jamesmelville': 2284, 'observe': 3448, 'wuhanlab': 4932, 'bidencrimefamilly': 367, 'bidenisafailure': 368, 'aboutindia': 13, 'billgatesbioterrorist': 374, 'lo': 2803, 'loading': 2805, 'induce': 2064, 'masspsychosis': 3027, 'intent': 2169, 'glug': 1738, 'hat': 1821, 'marburgvirus': 2976, 'michaelmihaiio': 3150, 'deboyegeorge': 922, 'behest': 339, 'billgates': 373, 'jabbo': 2252, 'buck': 467, 'deniability': 997, 'convid': 761, 'patron': 3557, 'dotmarceo': 1267, 'magically': 2917, 'newshubnationnz': 3364, 'deborahjonesnz': 920, 'purposely': 3789, 'accidently': 34, 'impressive': 2007, 'intensity': 2168, 'acknowledgement': 55, 'kilvalmer': 2506, 'sa': 4020, 'cloth': 643, 'impose': 2003, 'incident': 2025, 'buzz': 494, 'mingle': 3197, 'jabbed': 2251, 'evilarthurfleck': 1477, 'dreaded': 1301, 'ardern': 221, 'deberelene': 918, 'merrimaneileen': 3123, 'vanguard': 4745, 'blackrock': 394, 'shareholder': 4158, 'invesco': 2200, 'massdph': 3025, 'inthe': 2188, 'enemy': 1406, 'disgrace': 1166, 'leaveusalone': 2679, 'pound': 3674, 'forpittssake': 1635, 'exclusively': 1492, 'drama': 1290, 'maxwell': 3046, 'accident': 33, 'harvest': 1820, 'leathal': 2676, 'ninja': 3387, 'allege': 136, 'invention': 2199, 'govts': 1759, 'jsolomonreports': 2403, 'democrats': 989, 'nov': 3414, 'protest': 3766, 'unicorn': 4678, 'immunodeficiency': 1988, 'deprave': 1020, 'midtermitis': 3172, 'jordanschachtel': 2388, 'iota': 2214, 'implement': 1993, 'workin': 4911, 'meant': 3065, 'swim': 4437, 'lets': 2712, 'revert': 3962, 'saltwater': 4034, 'zerohedge': 4991, 'johncardillo': 2370, 'cheat': 580, 'ksatnews': 2561, 'makin': 2937, 'bastardization': 314, 'keyhole': 2488, 'broadcast': 458, 'rogerbezanis': 3988, 'letsgobrandon': 2713, 'intimacy': 2189, 'jyzovrrted': 2437, 'festivity': 1576, 'perversion': 3589, 'genetically': 1706, 'dif': 1100, 'microsoft': 3165, 'meantime': 3066, 'mdbreathe': 3058, 'donaldjtrumpjr': 1244, 'lurk': 2892, 'yous': 4971, 'yeh': 4953, 'meaningful': 3064, 'predictable': 3687, 'ignite': 1960, 'maskedfemboii': 3016, 'malone': 2945, 'lying': 2898, 'groom': 1778, 'biological': 383, 'abstract': 22, 'bang': 299, 'dnwlkr': 1222, 'intentional': 2170, 'jul': 2411, 'mindgomes': 3193, 'truthhero': 4628, 'nwo': 3428, 'influence': 2090, 'kirstenhalpin': 2521, 'coincidental': 658, 'wink': 4892, 'scamdemic': 4056, 'poison': 3644, 'domination': 1240, 'somethin': 4266, 'outbreaks': 3510, 'spark': 4289, 'maniac': 2961, 'laschools': 2620, 'tfw': 4496, 'moratorium': 3267, 'cnbc': 649, 'distort': 1197, 'docs': 1226, 'memoryholed': 3103, 'celibacy': 553, 'diease': 1097, 'lung': 2891, 'kinky': 2519, 'jewish': 2340, 'mafia': 2914, 'jakepaul': 2267, 'eff': 1373, 'cu': 831, 'delusion': 983, 'ixamxlambo': 2246, 'attenuate': 263, 'injected': 2112, 'donkey': 1246, 'keester': 2473, 'familiar': 1542, 'accountability': 41, 'mforstater': 3138, 'tomfitton': 4564, 'disneyland': 1180, 'distraction': 1199, 'magician': 2918, 'nefarious': 3350, 'iq': 2215, 'biolabs': 382, 'dk': 1213, 'down': 1277, 'defect': 953, 'minimizers': 3203, 'pile': 3617, 'overhyped': 3516, 'lizard': 2791, 'leprosy': 2700, 'jimtalbot': 2350, 'insiliconot': 2142, 'tyranny': 4648, 'magnogamous': 2919, 'stds': 4337, 'accomplish': 37, 'billionaire': 377, 'lobbying': 2807, 'westjournalism': 4858, 'dealer': 906, 'ivermectine': 2245, 'dissem': 1190, 'mers': 3124, 'jackie': 2259, 'prediction': 3688, 'lockdowns': 2815, 'disrupt': 1188, 'destroys': 1053, 'independence': 2047, 'intuition': 2195, 'unite': 4681, 'dominiquetaegon': 1242, 'industry': 2066, 'ingredient': 2102, 'depopulation': 1019, 'mic': 3147, 'cleveland': 632, 'zenjentree': 4989, 'tolerate': 4562, 'homeau': 1894, 'truduck': 4621, 'mandatemasksny': 2955, 'juice': 2408, 'degeneracy': 963, 'restrict': 3955, 'ivermectin': 2244, 'depravity': 1021, 'degenerate': 964, 'incorporate': 2038, 'jumbo': 2419, 'zeeonenz': 4986, 'jacinda': 2253, 'marginally': 2983, 'noone': 3400, 'deliberate': 973, 'refrain': 3884, 'injesusname': 2114, 'jeffsonich': 2319, 'strictlychristo': 4370, 'jackass': 2255, 'derange': 1027, 'importantly': 2000, 'abnormal': 8, 'reference': 3882, 'ramsay': 3822, 'schwab': 4071, 'blair': 396, 'printing': 3726, 'marcelaercia': 2979, 'jjemiola': 2352, 'rdrhwke': 3838, 'baddaddee': 287, 'texasrecks': 4493, 'charmedtreasure': 576, 'lindaprenwolf': 2762, 'marilynlavala': 2987, 'cottika': 780, 'dbargen': 894, 'dawgright': 890, 'bdonesem': 324, 'dmcdmuffin': 1217, 'dfbharvard': 1075, 'wickedtcher': 4877, 'freestatefl': 1655, 'lisalunaz': 2772, 'thegrayrider': 4505, 'kimmarinesis': 2507, 'michaelsdoyle': 3153, 'kellykreads': 2475, 'aingelgrl': 118, 'kittythepatriot': 2528, 'zegdie': 4987, 'ltyplm': 2881, 'misfitnici': 3214, 'misterchipt': 3224, 'goldisez': 1744, 'ravnrvng': 3837, 'earthsghost': 1353, 'indymagz': 2067, 'krassdiane': 2556, 'luckietrumpster': 2884, 'justajarhead': 2430, 'insatiablevine': 2135, 'amandalaurenm': 154, 'siciliandiana': 4191, 'mericanheart': 3121, 'ladyladyheidiab': 2596, 'libsaresodumb': 2738, 'marker': 2993, 'universevery': 4685, 'cbcnewsbc': 542, 'neurological': 3357, 'psychiatric': 3775, 'thailand': 4497, 'deleterious': 972, 'acetone': 49, 'accountants': 43, 'jdaniellebrown': 2305, 'jdgtranen': 2307, 'mehdihasanshow': 3093, 'carlzimmer': 527, 'jimdorf': 2348, 'download': 1280, 'surprising': 4420, 'rebranded': 3860, 'doctorjanette': 1229, 'absurd': 23, 'inconvenient': 2037, 'jfc': 2342, 'rid': 3967, 'mo': 3238, 'comradevero': 705, 'delawareonline': 968, 'atlrey': 258, 'mama': 2946, 'pin': 3620, 'mechanism': 3072, 'kevinthebooks': 2485, 'keatingssixth': 2469, 'laundry': 2641, 'dec': 925, 'caitlinvanasse': 498, 'inequality': 2071, 'drbiscuitss': 1296, 'morph': 3273, 'industrial': 2065, 'blistering': 401, 'drranj': 1330, 'discernible': 1144, 'sinister': 4220, 'kusinews': 2569, 'knx': 2548, 'letitrip': 2710, 'jujuberunnin': 2410, 'labellemercure': 2578, 'karlheinzhaslip': 2453, 'darkoarmy': 872, 'dfisman': 1076, 'size': 4226, 'jasonhornbuckle': 2294, 'karol': 2456, 'joepinkstone': 2363, 'drkerrysmith': 1322, 'lymphocites': 2902, 'digital': 1112, 'aboard': 9, 'jerrydunleavy': 2329, 'innocentskeptic': 2121, 'donsurber': 1250, 'venereal': 4759, 'lainieandharry': 2598, 'jamesdamla': 2280, 'acknowledge': 54, 'thierrybaudet': 4517, 'hippezutphen': 1871, 'maximhartman': 3043, 'marjoleinrth': 2989, 'joostniemoller': 2385, 'mihazank': 3177, 'nannieoctavias': 3320, 'minpres': 3209, 'davideyoungmd': 886, 'klan': 2532, 'investigative': 2204, 'journalism': 2394, 'imakeartifacts': 1974, 'meghanor': 3091, 'nbsaphiermd': 3341, 'ventilation': 4761, 'merely': 3119, 'dontlookup': 1252, 'dirt': 1128, 'deepstate': 949, 'iran': 2216, 'knuckle': 2547, 'making': 2938, 'abolishwokeness': 10, 'izziekraft': 2248, 'jcinpv': 2304, 'improvement': 2010, 'inplainsight': 2127, 'merlinofcanada': 3122, 'lenoreclemens': 2697, 'globalfund': 1734, 'unicef': 4677}\n",
      "  (0, 3257)\t0.0951777891421927\n",
      "  (0, 2250)\t0.45899488805972394\n",
      "  (0, 1739)\t0.2904729848549999\n",
      "  (0, 1726)\t0.3526569415494313\n",
      "  (0, 1718)\t0.2363152438141047\n",
      "  (0, 1653)\t0.48871321572176873\n",
      "  (0, 297)\t0.5261538806807776\n",
      "  (1, 4592)\t0.75316683159535\n",
      "  (1, 3677)\t0.21143592817681348\n",
      "  (1, 3395)\t0.5863414306065816\n",
      "  (1, 3256)\t0.2103290251364713\n",
      "  (2, 4963)\t0.5417729324755914\n",
      "  (2, 4709)\t0.39871080046720786\n",
      "  (2, 3668)\t0.3258306308218311\n",
      "  (2, 3360)\t0.3954364610072977\n",
      "  (2, 3327)\t0.3140995437373291\n",
      "  (2, 3257)\t0.06826823130574446\n",
      "  (2, 1919)\t0.3034305519609314\n",
      "  (2, 619)\t0.26237142612146186\n",
      "  (2, 532)\t0.14404253768220682\n",
      "  (3, 4323)\t0.3250652924372735\n",
      "  (3, 4135)\t0.6000306758470783\n",
      "  (3, 4064)\t0.3728961976181629\n",
      "  (3, 3737)\t0.25040714245622825\n",
      "  (3, 3677)\t0.10468285424889852\n",
      "  :\t:\n",
      "  (4046, 2541)\t0.29535865718734816\n",
      "  (4046, 1547)\t0.546989420490643\n",
      "  (4047, 4258)\t0.3798498716983746\n",
      "  (4047, 3677)\t0.11034113300057086\n",
      "  (4047, 3256)\t0.1097634784049385\n",
      "  (4047, 2942)\t0.6075047764349885\n",
      "  (4047, 732)\t0.34804076361083225\n",
      "  (4047, 539)\t0.2563464592758787\n",
      "  (4047, 338)\t0.3257604009076745\n",
      "  (4047, 8)\t0.41165897978591703\n",
      "  (4048, 4846)\t0.38049108216414157\n",
      "  (4048, 4705)\t0.2951878722815858\n",
      "  (4048, 4638)\t0.3457818080775635\n",
      "  (4048, 4527)\t0.3272031472392907\n",
      "  (4048, 4216)\t0.2951878722815858\n",
      "  (4048, 3361)\t0.24563437697164897\n",
      "  (4048, 3285)\t0.47292141378047936\n",
      "  (4048, 3257)\t0.071701774626584\n",
      "  (4048, 2639)\t0.40644281627510187\n",
      "  (4049, 4416)\t0.5050264264601936\n",
      "  (4049, 4283)\t0.46352889101133266\n",
      "  (4049, 3257)\t0.11631590378863355\n",
      "  (4049, 1611)\t0.5134037829402286\n",
      "  (4049, 708)\t0.4390274660397997\n",
      "  (4049, 532)\t0.2454207122999594\n"
     ]
    }
   ],
   "source": [
    "#word vectorization--turn collection of text into numerical feature vectors using\n",
    "# term frequency -- inverse document (TF-IDF)\n",
    "\n",
    "Tfidf_vect = TfidfVectorizer(max_features=5000)\n",
    "Tfidf_vect.fit(combo_df['tokenized_text'])\n",
    "\n",
    "train_x_Tfidf = Tfidf_vect.transform(train_x)\n",
    "test_x_Tfidf = Tfidf_vect.transform(test_x)\n",
    "\n",
    "print(Tfidf_vect.vocabulary_)\n",
    "print(train_x_Tfidf)"
   ]
  },
  {
   "cell_type": "markdown",
   "metadata": {},
   "source": [
    "# Using a Support Vector Machine to Classify Tweets\n",
    "We have 91.48% accuracy in classifying Tweets as misinformation or not misinformation with 92.75% precision and 57.19% recall. Higher precision means that the algorithm is more accurate in returning positive predictions, whereas higher recall means that there is a higher quantity in positive predictions. We have a lower recall score, which means that there may be fewer positive predictions. However, with our high precision, the positive predictions that we do make are generally accurate. \n",
    "\n",
    "In this SVM, there are 1623 support vectors in the data, meaning that those are the data points closest to the hyperplane in the SVM. These data points are the most difficult to classify as misinformation or not misinformation. \n",
    "### How to use in recommender system: \n",
    "In a content-based filtering recommendation algorithm, we can use the misinformation classification results made by the SVM to not recommend content that has been classified as \"misinformation\", which is labeled by \"1\". `prediction_SVM` is an array containing the classification of Tweets as \"0\"s and \"1\"s. By flagging the \"1\"s, we can filter out the misinformation recommended to users."
   ]
  },
  {
   "cell_type": "code",
   "execution_count": 84,
   "metadata": {},
   "outputs": [
    {
     "name": "stdout",
     "output_type": "stream",
     "text": [
      "1620 support vectors in the data\n",
      "SVM Accuracy Score -> 91.54 percent\n",
      "SVM Precision Score -> 92.35 percent\n",
      "SVM Recall Score -> 57.83 percent\n"
     ]
    }
   ],
   "source": [
    "SVM = svm.SVC(C=1.0, kernel='linear', degree=3, gamma='auto')\n",
    "SVM.fit(train_x_Tfidf, train_y)\n",
    "prediction_SVM = SVM.predict(test_x_Tfidf)\n",
    "\n",
    "print('{} support vectors in the data'.format(len(SVM.support_)))\n",
    "print('SVM Accuracy Score -> {:.2f} percent'.format(metrics.accuracy_score(prediction_SVM, test_y)*100))\n",
    "print('SVM Precision Score -> {:.2f} percent'.format(metrics.precision_score(test_y, prediction_SVM) * 100))\n",
    "print('SVM Recall Score -> {:.2f} percent'.format(metrics.recall_score(test_y, prediction_SVM) * 100))"
   ]
  },
  {
   "cell_type": "markdown",
   "metadata": {},
   "source": [
    "# Calculating Social Credibility Scores for Users\n",
    "We use Kang et al.'s method of calculating social credibility, a formula using user metadata such as retweet count and follower count, to calculate. The credibility score runs on a scale from 0 to 10, with 10 being most credible and 0 least credible. \n",
    "### How to use in recommender system:\n",
    "In a collaborative filtering recommendation algorithm, we can use credibility scores to have those with less credibility to show up less in one's social media feed. "
   ]
  },
  {
   "cell_type": "code",
   "execution_count": 85,
   "metadata": {},
   "outputs": [
    {
     "name": "stdout",
     "output_type": "stream",
     "text": [
      "0       9.628096\n",
      "1       9.901097\n",
      "2       9.743742\n",
      "3       9.800178\n",
      "4       9.743742\n",
      "          ...   \n",
      "5782    9.743742\n",
      "5783    9.743742\n",
      "5784    9.743742\n",
      "5785    9.743742\n",
      "5786    9.695124\n",
      "Name: credibility, Length: 5787, dtype: float64\n",
      "The maximum social credibility score is:  9.999289307833651\n",
      "The minimumsocial credibility score is:  0.0\n",
      "The mean social credibility score is:  9.462698535896896\n"
     ]
    }
   ],
   "source": [
    "mean_retweet_count = combo_df['retweet_count'].mean()\n",
    "mean_follower_count = combo_df['followers count'].mean()\n",
    "total_tweet_count = combo_df.size\n",
    "def cred_score(retweets, followers, user_tweet_count):\n",
    "    utility = abs(((retweets * followers)/user_tweet_count) - ((mean_retweet_count * mean_follower_count)/total_tweet_count))\n",
    "    standardized = np.sqrt((utility ** 2)/(total_tweet_count-1))\n",
    "    return 10 - (standardized * 100)\n",
    "combo_df['credibility'] = cred_score(combo_df['retweet_count'],\n",
    "                                         combo_df['followers count'],\n",
    "                                         combo_df['tweet count'])\n",
    "#if the score is less than 0, then make it 0 because the score is low enough to not recommend the user in the algorithm\n",
    "combo_df.loc[combo_df['credibility'] < 0, \"credibility\"] = 0\n",
    "print(combo_df['credibility'])\n",
    "print(\"The maximum social credibility score is: \", combo_df['credibility'].max())\n",
    "print(\"The minimumsocial credibility score is: \", combo_df['credibility'].min())\n",
    "print(\"The mean social credibility score is: \", combo_df['credibility'].mean())"
   ]
  },
  {

   "cell_type": "code",
   "execution_count": null,
   "metadata": {},
   "outputs": [],
   "source": [
    "def recommender(u, nrecs, k, misinfo_filter):\n",
    "    interactions_copy = interactions_dict.copy()\n",
    "    neighbors = knearestneighbor(u, userset, 3, k)\n",
    "    movies = defaultdict(list)\n",
    "    credibility_scores = get_credibility_scores()\n",
    "    for tweet in interactions_copy[u].keys():\n",
    "        movies[tweet] = [\"PASS\"]\n",
    "    for neighbor in neighbors:\n",
    "        credibility_score = credibility_scores.get(neighbor, 1.0)  # Default to 1.0 if credibility score is not available\n",
    "        for tweet in interactions_copy[neighbor].keys():\n",
    "            if tweet in movies.keys():\n",
    "                if movies[tweet] != [\"PASS\"]:\n",
    "                    movies[tweet][0] += credibility_score  # Adjust the interaction count\n",
    "                    movies[tweet][1] += credibility_score * interactions_copy[neighbor][tweet]  # Adjust the interaction score\n",
    "            else:\n",
    "                movies[tweet] = [credibility_score, credibility_score * interactions_copy[neighbor][tweet]]\n",
    "    smoothedprediction = []\n",
    "    for tweet, data in movies.items():\n",
    "        if data != [\"PASS\"]:\n",
    "            credibility_adjusted_count = data[0]\n",
    "            credibility_adjusted_score = data[1] / data[0]  # Adjusted average based on credibility\n",
    "            prediction = (1 + (credibility_adjusted_count * credibility_adjusted_score)) / (1 + credibility_adjusted_count)\n",

   "cell_type": "markdown",
   "metadata": {},
   "source": [
    "Apply the previously-trained SVM model to a new dataset of monkeypox tweets and verify the accuracy. "
   ]
  },
  {
   "cell_type": "code",
   "execution_count": 86,
   "metadata": {},
   "outputs": [
    {
     "name": "stdout",
     "output_type": "stream",
     "text": [
      "Accuracy: 0.83\n",
      "Precision: 0.75\n",
      "Recall: 0.16\n",
      "F1 Score: 0.26\n"
     ]
    }
   ],
   "source": [
    "new_data = pd.read_csv(\"data/monkeypox-followup.csv\", encoding='latin-1')\n",
    "\n",
    "# Preprocess the new dataset\n",
    "new_data['text'].dropna(inplace=True)\n",
    "new_data['text'] = new_data['text'].astype(str)\n",
    "new_data['text'] = new_data['text'].str.lower()\n",
    "\n",
    "new_data['tokenized_text'] = new_data.apply(lambda row: nltk.word_tokenize(row[\"text\"]), axis=1)\n",
    "\n",
    "for i, text in enumerate(new_data['tokenized_text']):\n",
    "    final_words = []\n",
    "    word_lem = WordNetLemmatizer()\n",
    "    for word, tag in pos_tag(text):\n",
    "        if word not in stopwords.words('english') and word.isalpha():\n",
    "            word_final = word_lem.lemmatize(word, pos=pos_map[tag[0]])\n",
    "            final_words.append(word_final)\n",
    "    new_data.loc[i, 'tokenized_text'] = str(final_words)\n",
    "\n",
    "# Vectorize the text data in the new dataset\n",
    "new_data_text = new_data['tokenized_text']\n",
    "new_data_tfidf = Tfidf_vect.transform(new_data_text)\n",
    "\n",
    "# Make predictions using the trained SVM model\n",
    "new_data_predictions = SVM.predict(new_data_tfidf)\n",
    "\n",
    "# Add predictions to the new dataset\n",
    "new_data['predictions'] = new_data_predictions\n",
    "\n",
    "# Save the new dataset with predictions \n",
    "new_data[['ï»¿number', 'predictions']].to_csv('data/followup_predictions.csv', index=False)\n",
    "\n",
    "accuracy = metrics.accuracy_score(new_data['binary_class'], new_data_predictions)\n",
    "precision = metrics.precision_score(new_data['binary_class'], new_data_predictions)\n",
    "recall = metrics.recall_score(new_data['binary_class'], new_data_predictions)\n",
    "f1_score = metrics.f1_score(new_data['binary_class'], new_data_predictions)\n",
    "\n",
    "print(f'Accuracy: {accuracy:.2f}')\n",
    "print(f'Precision: {precision:.2f}')\n",
    "print(f'Recall: {recall:.2f}')\n",
    "print(f'F1 Score: {f1_score:.2f}')"
   ]
  },
  {
   "cell_type": "markdown",
   "metadata": {},
   "source": [
    "Process data to link the text of the new tweets to the the model's predictions."
   ]
  },
  {
   "cell_type": "code",
   "execution_count": 87,
   "metadata": {},
   "outputs": [
    {
     "name": "stdout",
     "output_type": "stream",
     "text": [
      "@findmeabluebird @_TheAncientOne_ @LizHighleyman @WHO @CDCgov Airborne transmission of Monkeypox only occurs with long exposures &amp; under rare circumstances. Monkeypox is mostly transmitted via direct/prolonged contact with an infected individual. 1/\n",
      "\"Since May\n",
      "@catturd2 Last Sunday Arthel Neville had some doctor on her FOX News show pushing both the new COVID booster and the monkeypox vaccine. It's funny how they can create vaccines out of thin air these days when it used to take years if not decades.\n",
      "\"@D14951351 Considering this didn't come out in 2020\n",
      "\"@EynoufElizabeth Yes\n",
      "\"@ilovedonrickles I loved his press conference on monkey pox. \"\"For the next 30 days\n",
      "@love_caravans @HumphreysJin As an unpaid carer I'm dreading what little wheeze the FM is gonna come up with next. Seeing as the monkeypox scare didn't have us all locking our doors. I'm going for a deadly mutated covid strain. What do you reckon?\n",
      "\"@modmothernature I don't have any personal experience in this matter\n",
      "@ReutersFacts Aids or Monkey pox? Something transmitted by butt sex? :rolling_on_the_floor_laughing:\n",
      "\"@ssholesbegone @MrJ_20 @FoxNews I know this. However….Right now\n",
      "Beto likes it in his butt &amp; he can not lie:eyes::face_with_tears_of_joy::face_with_tears_of_joy::face_with_tears_of_joy: #monkeypox\n",
      "Could monkeypox be a side effect of the :syringe: _URL_\n",
      "FACT-CHECK: Beto did not contract monkeypox from that gay orgy on the campaign trail • Genesius Times #factcheck #BetoHasMonkeyPox #BetoforGovernor2022 #pride _URL_\n",
      "Media Wants You To Stop Talking About Beto O'Rourke's Monkeypox _URL_ via @YouTube\n",
      "Media Wants You To Stop Talking About Beto O'Rourke's Monkeypox _URL_ via @YouTube\n",
      "Media Wants You To Stop Talking About Beto O'Rourke's Monkeypox _URL_ via @YouTube\n",
      "monkey pox is a fake disease created by the left to get more attention to gay people _URL_\n",
      "\"Hey Tyler\n",
      "RT _URL_ _URL_ - A post in English and Spanish repeats the debunked notion that the monkeypox outbreak might have come from the Wuhan lab. The post also baselessly alleges that the WHO's decision to declare the outbreak a public emergency was\n",
      "\"The pattern #monkeypox disease is showing in terms of transmission is similar to #AIDS in its initial spread in the world\n"
     ]
    }
   ],
   "source": [
    "followup_list = []\n",
    "tweet_text = {}\n",
    "\n",
    "with open(\"data/monkeypox-followup.csv\", \"r\") as file:\n",
    "    k = 0\n",
    "    for line in file:\n",
    "        if (k == 0):\n",
    "            pass\n",
    "        else:\n",
    "            li = line.strip().split(\",\")\n",
    "            tweet_text[int(li[0])] = li[2]\n",
    "        k = k + 1\n",
    "\n",
    "with open(\"data/followup_predictions.csv\", \"r\") as file:\n",
    "    k = 0\n",
    "    for line in file:\n",
    "        if (k == 0):\n",
    "            pass\n",
    "        else:\n",
    "            li = line.strip().split(\",\")\n",
    "            followup_list.append([int(li[0]), int(li[1])])\n",
    "        k = k + 1\n",
    "        \n",
    "for tweet in followup_list:\n",
    "    if (tweet[1] == 1):\n",
    "        print(tweet_text[tweet[0]])"
   ]
  },
  {
   "cell_type": "markdown",
   "metadata": {},
   "source": [
    "Generate 100 fake users and 2500 fake interactions (like, reply, or retweet) with the tweets in the new dataset. The first 25 users have a preference for misinformation, the second 50 users have a preference for non-misinformation, and the last 25 have no preference. "
   ]
  },
  {
   "cell_type": "code",
   "execution_count": 123,
   "metadata": {},
   "outputs": [
    {
     "name": "stdout",
     "output_type": "stream",
     "text": [
      "Fake Users DataFrame:\n",
      "   user_id misinformation_preference\n",
      "0        1            misinformation\n",
      "1        2            misinformation\n",
      "2        3            misinformation\n",
      "3        4            misinformation\n",
      "4        5            misinformation\n",
      "\n",
      "Fake Interactions DataFrame:\n",
      "   user_id  tweet_id interaction_type\n",
      "0        1      2561          comment\n",
      "1        1     13214          comment\n",
      "2        1        46             like\n",
      "3        1      3173          comment\n",
      "4        1       709          comment\n"
     ]
    }
   ],
   "source": [
    "import pandas as pd\n",
    "from faker import Faker\n",
    "import random\n",
    "\n",
    "# Set up Faker to generate fake data\n",
    "fake = Faker()\n",
    "\n",
    "# Function to generate a fake user with a specified misinformation preference\n",
    "def generate_user(user_id, misinformation_preference):\n",
    "    return {\n",
    "        'user_id': user_id,\n",
    "        'misinformation_preference': misinformation_preference,\n",
    "    }\n",
    "\n",
    "def generate_interactions(users, tweets, num_interactions, misinformation_preference):\n",
    "    interactions = []\n",
    "\n",
    "    # Cast the 'binary_class' column to int\n",
    "    tweets['binary_class'] = tweets['binary_class'].astype(int)\n",
    "\n",
    "    # Filter tweets based on misinformation_preference\n",
    "    if misinformation_preference == 'misinformation':\n",
    "        filtered_tweets = tweets[tweets['binary_class'] == 1]\n",
    "    elif misinformation_preference == 'non-misinformation':\n",
    "        filtered_tweets = tweets[tweets['binary_class'] == 0]\n",
    "    else:\n",
    "        filtered_tweets = tweets  # No specific preference, use all tweets\n",
    "\n",
    "    for _ in range(num_interactions):\n",
    "        user_id = random.choice(users)['user_id']\n",
    "        \n",
    "        # Check if there are tweets with the specified condition\n",
    "        if not filtered_tweets.empty:\n",
    "            # Convert the 'number' column to a list for random.choice\n",
    "            tweet_ids = filtered_tweets['number'].tolist()\n",
    "\n",
    "            # Use random.choice on the list of tweet_ids\n",
    "            tweet_id = random.choice(tweet_ids)\n",
    "\n",
    "            interaction_type = random.choice(['like', 'retweet', 'comment'])\n",
    "            interactions.append({'user_id': user_id, 'tweet_id': tweet_id, 'interaction_type': interaction_type})\n",
    "\n",
    "    return pd.DataFrame(interactions)\n",
    "\n",
    "def generate_fake_data(num_users, real_tweets_df, num_interactions_per_user):\n",
    "    users = []\n",
    "    interactions = []\n",
    "\n",
    "    for user_id in range(1, num_users + 1):\n",
    "        if user_id <= 25:\n",
    "            misinformation_preference = 'misinformation'\n",
    "        elif user_id <= 75:\n",
    "            misinformation_preference = 'non-misinformation'\n",
    "        else:\n",
    "            misinformation_preference = None\n",
    "\n",
    "        users.append(generate_user(user_id, misinformation_preference))\n",
    "        \n",
    "        user_interactions = generate_interactions(users[-1:], real_tweets_df, num_interactions_per_user, misinformation_preference)\n",
    "        interactions.append(user_interactions)\n",
    "\n",
    "    users_df = pd.DataFrame(users)\n",
    "    interactions_df = pd.concat(interactions, ignore_index=True)\n",
    "\n",
    "    return users_df, interactions_df\n",
    "\n",
    "# Replace this with your actual real dataset\n",
    "real_tweets_df = pd.read_csv(\"data/monkeypox-followup.csv\")\n",
    "\n",
    "# Generate a fake dataset with 100 users and 5 interactions per user\n",
    "num_users = 100\n",
    "num_interactions_per_user = 25\n",
    "\n",
    "fake_users_df, fake_interactions_df = generate_fake_data(num_users, real_tweets_df, num_interactions_per_user)\n",
    "\n",
    "# Display the generated dataframes\n",
    "print(\"Fake Users DataFrame:\")\n",
    "print(fake_users_df.head())\n",
    "\n",
    "print(\"\\nFake Interactions DataFrame:\")\n",
    "print(fake_interactions_df.head())\n",
    "\n",
    "fake_users_df.to_csv(\"data/preference_fake_users.csv\", index=False)\n",
    "fake_interactions_df.to_csv(\"data/preference_fake_interactions.csv\", index=False)"
   ]
  },
  {
   "cell_type": "markdown",
   "metadata": {},
   "source": [
    "Define a k-nearest neighbors recommender algorithm based solely on these interactions. "
   ]
  },
  {
   "cell_type": "code",
   "execution_count": 133,
   "metadata": {},
   "outputs": [],
   "source": [
    "from collections import defaultdict\n",
    "import math\n",
    "\n",
    "interactions = []\n",
    "\n",
    "with open(\"data/preference_fake_interactions.csv\", \"r\") as file:\n",
    "    k = 0\n",
    "    for line in file:\n",
    "        if (k == 0):\n",
    "            pass\n",
    "        else:\n",
    "            li = line.strip().split(\",\")\n",
    "            interactions.append(li)\n",
    "        k = k + 1\n",
    "\n",
    "interactions_dict = {}\n",
    "userset = set()\n",
    "\n",
    "for interaction in interactions:\n",
    "    user = int(interaction[0])\n",
    "    tweet = int(interaction[1])\n",
    "    interaction_type = interaction[2]\n",
    "    userset.add(user)\n",
    "    if (user not in interactions_dict.keys()):\n",
    "        interactions_dict[user] = {}\n",
    "    if (tweet not in interactions_dict[user].keys()):\n",
    "        interactions_dict[user][tweet] = 0           \n",
    "    if (interaction_type == \"like\"):\n",
    "        interactions_dict[user][tweet] = interactions_dict[user][tweet] + 10\n",
    "    if (interaction_type == \"comment\"):\n",
    "        interactions_dict[user][tweet] = interactions_dict[user][tweet] + 15\n",
    "    if (interaction_type == \"retweet\"):\n",
    "        interactions_dict[user][tweet] = interactions_dict[user][tweet] + 10\n",
    "\n",
    "def angulardistance(combinedlist):\n",
    "    a = 0\n",
    "    b = 0\n",
    "    c = 0\n",
    "    for i in combinedlist:\n",
    "        x = i[0]\n",
    "        y = i[1]\n",
    "        a += x * y\n",
    "        b += x * x\n",
    "        c += y * y\n",
    "    return 1 - a/((math.sqrt(b)*math.sqrt(c)))\n",
    "\n",
    "def ratingdistance(user1, user2, threshold):\n",
    "    combined = defaultdict(list)\n",
    "    combinedlist = []\n",
    "    for tweet in interactions_dict[user1].keys():\n",
    "        combined[tweet].append(interactions_dict[user1][tweet])\n",
    "    for tweet in interactions_dict[user2].keys():\n",
    "        combined[tweet].append(interactions_dict[user2][tweet])\n",
    "        if (len(combined[tweet]) > 1):\n",
    "            combinedlist.append(combined[tweet])\n",
    "    if (len(combinedlist) > threshold - 1):\n",
    "       return angulardistance(combinedlist)\n",
    "    else:\n",
    "        return 1.0\n",
    "\n",
    "def knearestneighbor(u, S, threshold, k):\n",
    "    if (k > len(S)):\n",
    "        return S\n",
    "    neighbors = []\n",
    "    for user in S:\n",
    "        if (user != u):\n",
    "            distance = ratingdistance(u, user, threshold)\n",
    "            neighbors.append((user, distance))\n",
    "    neighbors.sort(key=lambda x: x[1])\n",
    "    ret = []\n",
    "    for i in range(k):\n",
    "        ret.append(neighbors[i][0])\n",
    "    return(ret)\n",
    "\n",
    "def recommender(u, nrecs, k):\n",
    "    interactions_copy = interactions_dict.copy()\n",
    "    neighbors = knearestneighbor(u, userset, 3, k)\n",
    "    tweets = defaultdict(list)\n",
    "    for tweet in interactions_copy[u].keys():\n",
    "        tweets[tweet] = [\"PASS\"]\n",
    "    for neighbor in neighbors:\n",
    "        for tweet in interactions_copy[neighbor].keys():\n",
    "            if (tweet in tweets.keys()):\n",
    "                if (tweets[tweet] != [\"PASS\"]):\n",
    "                    tweets[tweet][0] += 1\n",
    "                    tweets[tweet][1] = (tweets[tweet][1] + interactions_copy[neighbor][tweet])\n",
    "            else:\n",
    "                tweets[tweet] = [1, interactions_copy[neighbor][tweet]]\n",
    "    smoothedprediction = []\n",
    "    for tweet, data in tweets.items():\n",
    "        if (data != [\"PASS\"]):\n",
    "            average = data[1]/data[0]\n",
    "            prediction = (10 + (data[0]*average))/(1 + data[0])\n",
    "            smoothedprediction.append([tweet_text[tweet], prediction])\n",
    "    smoothedprediction.sort(key=lambda x: x[1], reverse=True)\n",
    "    return smoothedprediction[0:nrecs]"
   ]

  },
  {
   "cell_type": "markdown",
   "metadata": {},
   "source": [
    "The following tweets are recommended for User 1, who has a preference for misinformation."
   ]
  },
  {
   "cell_type": "code",
   "execution_count": 134,
   "metadata": {},
   "outputs": [
    {
     "name": "stdout",
     "output_type": "stream",
     "text": [
      "['@xeplusplus Not sure about this but the early symptoms of monkey pox is a pounding in the rear sensation.', 17.5]\n",
      "['\"@modmothernature I don\\'t have any personal experience in this matter', 15.0]\n",
      "['\"This is where Monkeypox started. It was probably the post-event orgy', 15.0]\n",
      "[\"@bacceculo @SerbiaBased sounds like the monkeypox and other associated STD's you carry have gone to your brain….\", 15.0]\n",
      "['@LinaHidalgoTX Then stop scaring people with the monkeypox or whatever new strategy from the government you have!!!:pouting_face::pouting_face::pouting_face:', 14.0]\n",
      "['@BetoORourke beta has the monkeypox now? _URL_', 13.75]\n",
      "['\"@SnackpaxEpi I would like to know how Monkeypox is spread. I thought it was transmitted by sexual contact', 13.333333333333334]\n",
      "['\"@JackPosobiec After eating random ass in an Austin', 13.0]\n",
      "['\"@WHCOVIDResponse Over 2 million Illegals are coming into our country every year. Many are NOT vaccinated &amp; can spread a variety of communicable diseases including: TB', 13.0]\n",
      "['@BetoORourke Beto has monkeypox. #BetoHasMonkeyPox', 13.0]\n"
     ]
    }
   ],
   "source": [
    "recommendations = recommender(1, 10, 10)\n",
    "for line in recommendations:\n",
    "    print(line)\n"
   ]
  },
  {
   "cell_type": "markdown",
   "metadata": {},
   "source": [
    "The following tweets are recommended for User 26, who has a preference for non-misinformation."
   ]
  },
  {
   "cell_type": "code",
   "execution_count": 135,
   "metadata": {},
   "outputs": [
    {
     "name": "stdout",
     "output_type": "stream",
     "text": [
      "['They should give you a cigarette while you wait after the monkeypox vaccine', 15.0]\n",
      "['#うひーメモ 投稿時間:2022-08-31 07:03:34 First US death linked to monkeypox reported in immunocompromised adult in Texas _URL_ #海外TECH', 13.75]\n",
      "['Appreciate Noah Weiland \\u2066@nytimes\\u2069 including my comments on this important story on \\u2066@POTUS\\u2069 Admin efforts to address disparities in #monkeypox  #healthequity  \\u2066@JHhealthequity\\u2069 _URL_', 13.333333333333334]\n",
      "['TX Officials Confirm The First Death Of Monkeypox In The State _URL_', 13.333333333333334]\n",
      "['oh you know just another evening emailing local officials and reporters in order to get them to do LITERALLY ANYTHING about monkeypox :woozy_face:', 13.0]\n",
      "['@newsmax Monkey pox', 12.5]\n",
      "['\"@NickReisman If you\\'re anything like Canada', 12.5]\n",
      "['GUYANA CONFIRMS SECOND MONKEY POX CASE _URL_', 12.5]\n",
      "['@pvtjokerus Monkeypox?', 12.5]\n",
      "[\"It's monkeypox EVERYONE KNOWS IT. _URL_\", 12.5]\n"
     ]
    }
   ],
   "source": [
    "recommendations = recommender(26, 10, 10)\n",
    "for line in recommendations:\n",
    "    print(line)"
   ]

  }
 ],
 "metadata": {
  "kernelspec": {
   "display_name": "Python 3 (ipykernel)",
   "language": "python",
   "name": "python3"
  },
  "language_info": {
   "codemirror_mode": {
    "name": "ipython",
    "version": 3
   },
   "file_extension": ".py",
   "mimetype": "text/x-python",
   "name": "python",
   "nbconvert_exporter": "python",
   "pygments_lexer": "ipython3",
   "version": "3.11.3"
  }
 },
 "nbformat": 4,
 "nbformat_minor": 2
}
