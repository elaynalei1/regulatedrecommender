{
 "cells": [
  {
   "cell_type": "code",
   "execution_count": 3,
   "metadata": {},
   "outputs": [
    {
     "name": "stdout",
     "output_type": "stream",
     "text": [
      "       Unnamed: 0                                               text  \\\n",
      "0               0  The head of a conservative Republican faction ...   \n",
      "1               1  Transgender people will be allowed for the fir...   \n",
      "2               2  The special counsel investigation of links bet...   \n",
      "3               3  Trump campaign adviser George Papadopoulos tol...   \n",
      "4               4  President Donald Trump called on the U.S. Post...   \n",
      "...           ...                                                ...   \n",
      "78612       44422  The USA wants to divide Syria.\\r\\n\\r\\nGreat Br...   \n",
      "78613       44423  The Ukrainian coup d'etat cost the US nothing ...   \n",
      "78614       44424  The European Parliament falsifies history by d...   \n",
      "78615       44425  The European Parliament falsifies history by d...   \n",
      "78616       44426  A leading FSB officer, Segey Beseda, said duri...   \n",
      "\n",
      "       Classifier  \n",
      "0               0  \n",
      "1               0  \n",
      "2               0  \n",
      "3               0  \n",
      "4               0  \n",
      "...           ...  \n",
      "78612           1  \n",
      "78613           1  \n",
      "78614           1  \n",
      "78615           1  \n",
      "78616           1  \n",
      "\n",
      "[78617 rows x 3 columns]\n"
     ]
    }
   ],
   "source": [
    "import pandas as pd\n",
    "\n",
    "true_df = pd.read_csv(\"data/DataSet_Misinfo_TRUE.csv\")\n",
    "true_df.insert(2, \"Classifier\", 0)\n",
    "\n",
    "false_df = pd.read_csv(\"data/DataSet_Misinfo_FAKE.csv\")\n",
    "false_df.insert(2, \"Classifier\", 1)\n",
    "\n",
    "data = [true_df, false_df]\n",
    "combo_df = pd.concat(data, ignore_index=True)"
   ]
  }
 ],
 "metadata": {
  "kernelspec": {
   "display_name": "Python 3",
   "language": "python",
   "name": "python3"
  },
  "language_info": {
   "codemirror_mode": {
    "name": "ipython",
    "version": 3
   },
   "file_extension": ".py",
   "mimetype": "text/x-python",
   "name": "python",
   "nbconvert_exporter": "python",
   "pygments_lexer": "ipython3",
   "version": "3.11.5"
  }
 },
 "nbformat": 4,
 "nbformat_minor": 2
}
